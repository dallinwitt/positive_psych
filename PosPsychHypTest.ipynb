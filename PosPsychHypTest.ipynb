{
 "cells": [
  {
   "cell_type": "markdown",
   "metadata": {},
   "source": [
    "# Introduction\n",
    "For this hypothesis test, I used data from Woodworth, O’Brien-Malone, Diamond, and Schüz's article ‘Web-based Positive Psychology Interventions: A Reexamination of Effectiveness’ published in the Journal of Open Psychology Data. From the abstract of that article:\n",
    "\n",
    "> We present two datasets. The first dataset comprises 992 point-in-time records of self-reported happiness and depression in 295 participants, each assigned to one of four intervention groups, in a study of the effect of web-based positive-psychology interventions. Each point-in-time measurement consists of a participant’s responses to the 24 items of the Authentic Happiness Inventory and to the 20 items of the Center for Epidemiological Studies Depression (CES-D) scale. Measurements were sought at the time of each participant’s enrolment in the study and on five subsequent occasions, the last being approximately 189 days after enrolment. The second dataset contains basic demographic information about each participant.\n",
    "\n",
    " My goal in this analysis is to independently verify the conclusions the authors came to, and see if there are any other insights that can be gleaned from the data they gathered."
   ]
  },
  {
   "cell_type": "markdown",
   "metadata": {},
   "source": [
    "# 1 Importing\n",
    "\n",
    "## 1.1 Importing Packages\n",
    "The data from the study are presented in two CSV tables, which I will import into R dataframes. To create and work with these dataframes, I will import the Tidyverse package, which will provide access to dplyr and ggplot2, among others.\n",
    "\n",
    "The power analysis will be done with the powerMediation package."
   ]
  },
  {
   "cell_type": "code",
   "execution_count": 1,
   "metadata": {},
   "outputs": [
    {
     "name": "stderr",
     "output_type": "stream",
     "text": [
      "-- \u001b[1mAttaching packages\u001b[22m --------------------------------------- tidyverse 1.3.0 --\n",
      "\n",
      "\u001b[32mv\u001b[39m \u001b[34mggplot2\u001b[39m 3.3.2     \u001b[32mv\u001b[39m \u001b[34mpurrr  \u001b[39m 0.3.4\n",
      "\u001b[32mv\u001b[39m \u001b[34mtibble \u001b[39m 3.0.1     \u001b[32mv\u001b[39m \u001b[34mdplyr  \u001b[39m 1.0.0\n",
      "\u001b[32mv\u001b[39m \u001b[34mtidyr  \u001b[39m 1.1.0     \u001b[32mv\u001b[39m \u001b[34mstringr\u001b[39m 1.4.0\n",
      "\u001b[32mv\u001b[39m \u001b[34mreadr  \u001b[39m 1.3.1     \u001b[32mv\u001b[39m \u001b[34mforcats\u001b[39m 0.5.0\n",
      "\n",
      "-- \u001b[1mConflicts\u001b[22m ------------------------------------------ tidyverse_conflicts() --\n",
      "\u001b[31mx\u001b[39m \u001b[34mdplyr\u001b[39m::\u001b[32mfilter()\u001b[39m masks \u001b[34mstats\u001b[39m::filter()\n",
      "\u001b[31mx\u001b[39m \u001b[34mdplyr\u001b[39m::\u001b[32mlag()\u001b[39m    masks \u001b[34mstats\u001b[39m::lag()\n",
      "\n",
      "\n",
      "Attaching package: 'reshape2'\n",
      "\n",
      "\n",
      "The following object is masked from 'package:tidyr':\n",
      "\n",
      "    smiths\n",
      "\n",
      "\n"
     ]
    }
   ],
   "source": [
    "#import tidyverse library, which includes dplyr and ggplot2\n",
    "library(tidyverse)\n",
    "library(reshape2)"
   ]
  },
  {
   "cell_type": "code",
   "execution_count": 2,
   "metadata": {},
   "outputs": [
    {
     "name": "stderr",
     "output_type": "stream",
     "text": [
      "Parsed with column specification:\n",
      "cols(\n",
      "  id = \u001b[32mcol_double()\u001b[39m,\n",
      "  intervention = \u001b[32mcol_double()\u001b[39m,\n",
      "  sex = \u001b[32mcol_double()\u001b[39m,\n",
      "  age = \u001b[32mcol_double()\u001b[39m,\n",
      "  educ = \u001b[32mcol_double()\u001b[39m,\n",
      "  income = \u001b[32mcol_double()\u001b[39m\n",
      ")\n",
      "\n",
      "Parsed with column specification:\n",
      "cols(\n",
      "  .default = col_double()\n",
      ")\n",
      "\n",
      "See spec(...) for full column specifications.\n",
      "\n"
     ]
    }
   ],
   "source": [
    "#import the participant data and experimental data csvs into dataframes\n",
    "participant_data <- read_csv(\"participant-info.csv\")\n",
    "experiment_data <- read_csv(\"ahi-cesd.csv\")"
   ]
  },
  {
   "cell_type": "markdown",
   "metadata": {},
   "source": [
    "# 2 Exploratory Data Analysis\n",
    "I'll begin the analysis of this study by looking at the data from a few different angles. There are 4 different interventions, and the data were measured over as many as six different instances. \n",
    "\n",
    "The dataset shows the respondant values for each question in both the happiness and the depression assessment. I am primarily interested in the aggregate values, so I am going to just keep those."
   ]
  },
  {
   "cell_type": "code",
   "execution_count": 3,
   "metadata": {},
   "outputs": [
    {
     "data": {
      "text/html": [
       "<table>\n",
       "<caption>A tibble: 6 × 6</caption>\n",
       "<thead>\n",
       "\t<tr><th scope=col>id</th><th scope=col>occasion</th><th scope=col>elapsed.days</th><th scope=col>intervention</th><th scope=col>ahiTotal</th><th scope=col>cesdTotal</th></tr>\n",
       "\t<tr><th scope=col>&lt;dbl&gt;</th><th scope=col>&lt;dbl&gt;</th><th scope=col>&lt;dbl&gt;</th><th scope=col>&lt;dbl&gt;</th><th scope=col>&lt;dbl&gt;</th><th scope=col>&lt;dbl&gt;</th></tr>\n",
       "</thead>\n",
       "<tbody>\n",
       "\t<tr><td>1</td><td>0</td><td> 0.000000</td><td>4</td><td>63</td><td>14</td></tr>\n",
       "\t<tr><td>1</td><td>1</td><td>11.772731</td><td>4</td><td>73</td><td> 6</td></tr>\n",
       "\t<tr><td>2</td><td>0</td><td> 0.000000</td><td>1</td><td>73</td><td> 7</td></tr>\n",
       "\t<tr><td>2</td><td>1</td><td> 8.017523</td><td>1</td><td>89</td><td>10</td></tr>\n",
       "\t<tr><td>2</td><td>2</td><td>14.304086</td><td>1</td><td>89</td><td>13</td></tr>\n",
       "\t<tr><td>2</td><td>3</td><td>31.983565</td><td>1</td><td>93</td><td> 8</td></tr>\n",
       "</tbody>\n",
       "</table>\n"
      ],
      "text/latex": [
       "A tibble: 6 × 6\n",
       "\\begin{tabular}{llllll}\n",
       " id & occasion & elapsed.days & intervention & ahiTotal & cesdTotal\\\\\n",
       " <dbl> & <dbl> & <dbl> & <dbl> & <dbl> & <dbl>\\\\\n",
       "\\hline\n",
       "\t 1 & 0 &  0.000000 & 4 & 63 & 14\\\\\n",
       "\t 1 & 1 & 11.772731 & 4 & 73 &  6\\\\\n",
       "\t 2 & 0 &  0.000000 & 1 & 73 &  7\\\\\n",
       "\t 2 & 1 &  8.017523 & 1 & 89 & 10\\\\\n",
       "\t 2 & 2 & 14.304086 & 1 & 89 & 13\\\\\n",
       "\t 2 & 3 & 31.983565 & 1 & 93 &  8\\\\\n",
       "\\end{tabular}\n"
      ],
      "text/markdown": [
       "\n",
       "A tibble: 6 × 6\n",
       "\n",
       "| id &lt;dbl&gt; | occasion &lt;dbl&gt; | elapsed.days &lt;dbl&gt; | intervention &lt;dbl&gt; | ahiTotal &lt;dbl&gt; | cesdTotal &lt;dbl&gt; |\n",
       "|---|---|---|---|---|---|\n",
       "| 1 | 0 |  0.000000 | 4 | 63 | 14 |\n",
       "| 1 | 1 | 11.772731 | 4 | 73 |  6 |\n",
       "| 2 | 0 |  0.000000 | 1 | 73 |  7 |\n",
       "| 2 | 1 |  8.017523 | 1 | 89 | 10 |\n",
       "| 2 | 2 | 14.304086 | 1 | 89 | 13 |\n",
       "| 2 | 3 | 31.983565 | 1 | 93 |  8 |\n",
       "\n"
      ],
      "text/plain": [
       "  id occasion elapsed.days intervention ahiTotal cesdTotal\n",
       "1 1  0         0.000000    4            63       14       \n",
       "2 1  1        11.772731    4            73        6       \n",
       "3 2  0         0.000000    1            73        7       \n",
       "4 2  1         8.017523    1            89       10       \n",
       "5 2  2        14.304086    1            89       13       \n",
       "6 2  3        31.983565    1            93        8       "
      ]
     },
     "metadata": {},
     "output_type": "display_data"
    }
   ],
   "source": [
    "#remove the data for individual questions from the two surveys, leaving only the total scores\n",
    "experiment_data_lite <- subset(experiment_data, select = c(id, occasion, elapsed.days, intervention, ahiTotal, cesdTotal))\n",
    "head(experiment_data_lite)"
   ]
  },
  {
   "cell_type": "markdown",
   "metadata": {},
   "source": [
    "Just at a first glance, I can already see that a major issue was reliable subject partifipaction. While some subjects engaged in 5 follow-up assessemnts, it seems that many never even participated in a single follow-up. To deal with this, I am going to filter out all participants who only did the first visit, since we will have no meaningful follow up data for them."
   ]
  },
  {
   "cell_type": "code",
   "execution_count": 4,
   "metadata": {},
   "outputs": [],
   "source": [
    "#group the data by id, and filter out all participants that only took the baseline survey.\n",
    "exp_data_multionly <- experiment_data_lite %>% \n",
    "    group_by(id)%>%\n",
    "    filter((max(row_number()) > 1))%>%\n",
    "    ungroup()"
   ]
  },
  {
   "cell_type": "markdown",
   "metadata": {},
   "source": [
    "The elapsed.days column gives the number of days since the first baseline visit. The value, though, is given to the millionths place, which is useless. I'll round all values in that column to the nearest integer."
   ]
  },
  {
   "cell_type": "code",
   "execution_count": 5,
   "metadata": {},
   "outputs": [],
   "source": [
    "#create a column that contains rounded day values for elapsed time and remove the old col\n",
    "exp_data_multionly <- exp_data_multionly%>%\n",
    "    mutate(days_since_start = round(elapsed.days, 0))\n",
    "\n",
    "exp_data_multionly <- subset(exp_data_multionly, select = -c(elapsed.days))\n",
    "\n",
    "#convert intervention and occasion to factors\n",
    "exp_data_multionly$intervention <- as.factor(exp_data_multionly$intervention)\n",
    "exp_data_multionly$occasion <- as.factor(exp_data_multionly$occasion)"
   ]
  },
  {
   "cell_type": "markdown",
   "metadata": {},
   "source": [
    "I'll get a glimpse at some of the trends by creating a new dataframe called study_summary, which will only contain the mean, median, standard deviation, and count for each intervention-occasion combination. This will allow me to wuickly plot some of the features that may distinguish the different interventions."
   ]
  },
  {
   "cell_type": "code",
   "execution_count": 6,
   "metadata": {},
   "outputs": [
    {
     "name": "stderr",
     "output_type": "stream",
     "text": [
      "`summarise()` regrouping output by 'intervention' (override with `.groups` argument)\n",
      "\n"
     ]
    }
   ],
   "source": [
    "study_summary <- exp_data_multionly %>%\n",
    "    group_by(intervention, occasion)%>%\n",
    "    summarise(mean_ahi = mean(ahiTotal), \n",
    "              med_ahi = median(ahiTotal),\n",
    "              ahi_sd = sd(ahiTotal),\n",
    "              mean_cesd = mean(cesdTotal),\n",
    "              med_cesd = median(cesdTotal),\n",
    "              cesd_sd = sd(cesdTotal),\n",
    "              occasion_count = n())"
   ]
  },
  {
   "cell_type": "code",
   "execution_count": 7,
   "metadata": {},
   "outputs": [
    {
     "data": {
      "text/html": [
       "<table>\n",
       "<caption>A grouped_df: 24 × 9</caption>\n",
       "<thead>\n",
       "\t<tr><th scope=col>intervention</th><th scope=col>occasion</th><th scope=col>mean_ahi</th><th scope=col>med_ahi</th><th scope=col>ahi_sd</th><th scope=col>mean_cesd</th><th scope=col>med_cesd</th><th scope=col>cesd_sd</th><th scope=col>occasion_count</th></tr>\n",
       "\t<tr><th scope=col>&lt;fct&gt;</th><th scope=col>&lt;fct&gt;</th><th scope=col>&lt;dbl&gt;</th><th scope=col>&lt;dbl&gt;</th><th scope=col>&lt;dbl&gt;</th><th scope=col>&lt;dbl&gt;</th><th scope=col>&lt;dbl&gt;</th><th scope=col>&lt;dbl&gt;</th><th scope=col>&lt;int&gt;</th></tr>\n",
       "</thead>\n",
       "<tbody>\n",
       "\t<tr><td>1</td><td>0</td><td>67.08889</td><td>66.0</td><td>13.98834</td><td>15.733333</td><td>13.0</td><td>11.480022</td><td>45</td></tr>\n",
       "\t<tr><td>1</td><td>1</td><td>69.53333</td><td>70.0</td><td>13.41572</td><td>15.300000</td><td> 9.0</td><td>14.748816</td><td>30</td></tr>\n",
       "\t<tr><td>1</td><td>2</td><td>70.34211</td><td>70.5</td><td>15.70897</td><td>13.578947</td><td>10.0</td><td>13.865437</td><td>38</td></tr>\n",
       "\t<tr><td>1</td><td>3</td><td>75.03448</td><td>74.0</td><td>12.75730</td><td>12.000000</td><td> 6.0</td><td>13.687847</td><td>29</td></tr>\n",
       "\t<tr><td>1</td><td>4</td><td>76.50000</td><td>78.5</td><td>16.16610</td><td>11.305556</td><td> 7.0</td><td>10.620249</td><td>36</td></tr>\n",
       "\t<tr><td>1</td><td>5</td><td>75.48148</td><td>76.0</td><td>14.46845</td><td>13.518519</td><td> 7.0</td><td>14.129539</td><td>27</td></tr>\n",
       "\t<tr><td>2</td><td>0</td><td>69.14035</td><td>67.0</td><td>12.94830</td><td>15.754386</td><td>15.0</td><td> 9.887367</td><td>57</td></tr>\n",
       "\t<tr><td>2</td><td>1</td><td>71.58333</td><td>73.5</td><td>12.51864</td><td>14.583333</td><td>11.5</td><td>11.507321</td><td>48</td></tr>\n",
       "\t<tr><td>2</td><td>2</td><td>72.95833</td><td>74.0</td><td>14.04091</td><td>12.166667</td><td> 9.0</td><td>11.785915</td><td>48</td></tr>\n",
       "\t<tr><td>2</td><td>3</td><td>72.46512</td><td>75.0</td><td>14.19649</td><td>12.511628</td><td>10.0</td><td>10.425180</td><td>43</td></tr>\n",
       "\t<tr><td>2</td><td>4</td><td>73.43243</td><td>75.0</td><td>16.64923</td><td>13.432432</td><td>10.0</td><td>12.166759</td><td>37</td></tr>\n",
       "\t<tr><td>2</td><td>5</td><td>74.48649</td><td>77.0</td><td>16.16000</td><td>14.567568</td><td>10.0</td><td>14.095982</td><td>37</td></tr>\n",
       "\t<tr><td>3</td><td>0</td><td>70.31818</td><td>71.0</td><td>13.76340</td><td>16.431818</td><td>12.0</td><td>13.147460</td><td>44</td></tr>\n",
       "\t<tr><td>3</td><td>1</td><td>74.00000</td><td>76.5</td><td>13.73982</td><td>12.625000</td><td> 9.5</td><td>10.651852</td><td>24</td></tr>\n",
       "\t<tr><td>3</td><td>2</td><td>72.15625</td><td>74.5</td><td>16.30181</td><td>14.781250</td><td> 8.0</td><td>14.864407</td><td>32</td></tr>\n",
       "\t<tr><td>3</td><td>3</td><td>73.90000</td><td>75.0</td><td>16.72362</td><td>13.600000</td><td>10.0</td><td>13.018819</td><td>30</td></tr>\n",
       "\t<tr><td>3</td><td>4</td><td>71.07407</td><td>74.0</td><td>14.57850</td><td>14.888889</td><td>10.0</td><td>14.794316</td><td>27</td></tr>\n",
       "\t<tr><td>3</td><td>5</td><td>74.56522</td><td>75.0</td><td>13.72067</td><td>13.043478</td><td> 9.0</td><td>12.779523</td><td>23</td></tr>\n",
       "\t<tr><td>4</td><td>0</td><td>71.75000</td><td>71.5</td><td>13.48433</td><td>13.053571</td><td>11.0</td><td> 9.563985</td><td>56</td></tr>\n",
       "\t<tr><td>4</td><td>1</td><td>74.17778</td><td>75.0</td><td>11.39236</td><td> 9.866667</td><td> 7.0</td><td> 7.679962</td><td>45</td></tr>\n",
       "\t<tr><td>4</td><td>2</td><td>76.51282</td><td>78.0</td><td>12.02819</td><td> 9.461538</td><td> 6.0</td><td> 8.908441</td><td>39</td></tr>\n",
       "\t<tr><td>4</td><td>3</td><td>77.13514</td><td>81.0</td><td>15.67582</td><td> 9.135135</td><td> 5.0</td><td>10.734581</td><td>37</td></tr>\n",
       "\t<tr><td>4</td><td>4</td><td>79.00000</td><td>80.0</td><td>13.84984</td><td> 7.735294</td><td> 4.5</td><td> 7.279314</td><td>34</td></tr>\n",
       "\t<tr><td>4</td><td>5</td><td>78.51515</td><td>78.0</td><td>13.47479</td><td>10.181818</td><td> 7.0</td><td>10.607941</td><td>33</td></tr>\n",
       "</tbody>\n",
       "</table>\n"
      ],
      "text/latex": [
       "A grouped\\_df: 24 × 9\n",
       "\\begin{tabular}{lllllllll}\n",
       " intervention & occasion & mean\\_ahi & med\\_ahi & ahi\\_sd & mean\\_cesd & med\\_cesd & cesd\\_sd & occasion\\_count\\\\\n",
       " <fct> & <fct> & <dbl> & <dbl> & <dbl> & <dbl> & <dbl> & <dbl> & <int>\\\\\n",
       "\\hline\n",
       "\t 1 & 0 & 67.08889 & 66.0 & 13.98834 & 15.733333 & 13.0 & 11.480022 & 45\\\\\n",
       "\t 1 & 1 & 69.53333 & 70.0 & 13.41572 & 15.300000 &  9.0 & 14.748816 & 30\\\\\n",
       "\t 1 & 2 & 70.34211 & 70.5 & 15.70897 & 13.578947 & 10.0 & 13.865437 & 38\\\\\n",
       "\t 1 & 3 & 75.03448 & 74.0 & 12.75730 & 12.000000 &  6.0 & 13.687847 & 29\\\\\n",
       "\t 1 & 4 & 76.50000 & 78.5 & 16.16610 & 11.305556 &  7.0 & 10.620249 & 36\\\\\n",
       "\t 1 & 5 & 75.48148 & 76.0 & 14.46845 & 13.518519 &  7.0 & 14.129539 & 27\\\\\n",
       "\t 2 & 0 & 69.14035 & 67.0 & 12.94830 & 15.754386 & 15.0 &  9.887367 & 57\\\\\n",
       "\t 2 & 1 & 71.58333 & 73.5 & 12.51864 & 14.583333 & 11.5 & 11.507321 & 48\\\\\n",
       "\t 2 & 2 & 72.95833 & 74.0 & 14.04091 & 12.166667 &  9.0 & 11.785915 & 48\\\\\n",
       "\t 2 & 3 & 72.46512 & 75.0 & 14.19649 & 12.511628 & 10.0 & 10.425180 & 43\\\\\n",
       "\t 2 & 4 & 73.43243 & 75.0 & 16.64923 & 13.432432 & 10.0 & 12.166759 & 37\\\\\n",
       "\t 2 & 5 & 74.48649 & 77.0 & 16.16000 & 14.567568 & 10.0 & 14.095982 & 37\\\\\n",
       "\t 3 & 0 & 70.31818 & 71.0 & 13.76340 & 16.431818 & 12.0 & 13.147460 & 44\\\\\n",
       "\t 3 & 1 & 74.00000 & 76.5 & 13.73982 & 12.625000 &  9.5 & 10.651852 & 24\\\\\n",
       "\t 3 & 2 & 72.15625 & 74.5 & 16.30181 & 14.781250 &  8.0 & 14.864407 & 32\\\\\n",
       "\t 3 & 3 & 73.90000 & 75.0 & 16.72362 & 13.600000 & 10.0 & 13.018819 & 30\\\\\n",
       "\t 3 & 4 & 71.07407 & 74.0 & 14.57850 & 14.888889 & 10.0 & 14.794316 & 27\\\\\n",
       "\t 3 & 5 & 74.56522 & 75.0 & 13.72067 & 13.043478 &  9.0 & 12.779523 & 23\\\\\n",
       "\t 4 & 0 & 71.75000 & 71.5 & 13.48433 & 13.053571 & 11.0 &  9.563985 & 56\\\\\n",
       "\t 4 & 1 & 74.17778 & 75.0 & 11.39236 &  9.866667 &  7.0 &  7.679962 & 45\\\\\n",
       "\t 4 & 2 & 76.51282 & 78.0 & 12.02819 &  9.461538 &  6.0 &  8.908441 & 39\\\\\n",
       "\t 4 & 3 & 77.13514 & 81.0 & 15.67582 &  9.135135 &  5.0 & 10.734581 & 37\\\\\n",
       "\t 4 & 4 & 79.00000 & 80.0 & 13.84984 &  7.735294 &  4.5 &  7.279314 & 34\\\\\n",
       "\t 4 & 5 & 78.51515 & 78.0 & 13.47479 & 10.181818 &  7.0 & 10.607941 & 33\\\\\n",
       "\\end{tabular}\n"
      ],
      "text/markdown": [
       "\n",
       "A grouped_df: 24 × 9\n",
       "\n",
       "| intervention &lt;fct&gt; | occasion &lt;fct&gt; | mean_ahi &lt;dbl&gt; | med_ahi &lt;dbl&gt; | ahi_sd &lt;dbl&gt; | mean_cesd &lt;dbl&gt; | med_cesd &lt;dbl&gt; | cesd_sd &lt;dbl&gt; | occasion_count &lt;int&gt; |\n",
       "|---|---|---|---|---|---|---|---|---|\n",
       "| 1 | 0 | 67.08889 | 66.0 | 13.98834 | 15.733333 | 13.0 | 11.480022 | 45 |\n",
       "| 1 | 1 | 69.53333 | 70.0 | 13.41572 | 15.300000 |  9.0 | 14.748816 | 30 |\n",
       "| 1 | 2 | 70.34211 | 70.5 | 15.70897 | 13.578947 | 10.0 | 13.865437 | 38 |\n",
       "| 1 | 3 | 75.03448 | 74.0 | 12.75730 | 12.000000 |  6.0 | 13.687847 | 29 |\n",
       "| 1 | 4 | 76.50000 | 78.5 | 16.16610 | 11.305556 |  7.0 | 10.620249 | 36 |\n",
       "| 1 | 5 | 75.48148 | 76.0 | 14.46845 | 13.518519 |  7.0 | 14.129539 | 27 |\n",
       "| 2 | 0 | 69.14035 | 67.0 | 12.94830 | 15.754386 | 15.0 |  9.887367 | 57 |\n",
       "| 2 | 1 | 71.58333 | 73.5 | 12.51864 | 14.583333 | 11.5 | 11.507321 | 48 |\n",
       "| 2 | 2 | 72.95833 | 74.0 | 14.04091 | 12.166667 |  9.0 | 11.785915 | 48 |\n",
       "| 2 | 3 | 72.46512 | 75.0 | 14.19649 | 12.511628 | 10.0 | 10.425180 | 43 |\n",
       "| 2 | 4 | 73.43243 | 75.0 | 16.64923 | 13.432432 | 10.0 | 12.166759 | 37 |\n",
       "| 2 | 5 | 74.48649 | 77.0 | 16.16000 | 14.567568 | 10.0 | 14.095982 | 37 |\n",
       "| 3 | 0 | 70.31818 | 71.0 | 13.76340 | 16.431818 | 12.0 | 13.147460 | 44 |\n",
       "| 3 | 1 | 74.00000 | 76.5 | 13.73982 | 12.625000 |  9.5 | 10.651852 | 24 |\n",
       "| 3 | 2 | 72.15625 | 74.5 | 16.30181 | 14.781250 |  8.0 | 14.864407 | 32 |\n",
       "| 3 | 3 | 73.90000 | 75.0 | 16.72362 | 13.600000 | 10.0 | 13.018819 | 30 |\n",
       "| 3 | 4 | 71.07407 | 74.0 | 14.57850 | 14.888889 | 10.0 | 14.794316 | 27 |\n",
       "| 3 | 5 | 74.56522 | 75.0 | 13.72067 | 13.043478 |  9.0 | 12.779523 | 23 |\n",
       "| 4 | 0 | 71.75000 | 71.5 | 13.48433 | 13.053571 | 11.0 |  9.563985 | 56 |\n",
       "| 4 | 1 | 74.17778 | 75.0 | 11.39236 |  9.866667 |  7.0 |  7.679962 | 45 |\n",
       "| 4 | 2 | 76.51282 | 78.0 | 12.02819 |  9.461538 |  6.0 |  8.908441 | 39 |\n",
       "| 4 | 3 | 77.13514 | 81.0 | 15.67582 |  9.135135 |  5.0 | 10.734581 | 37 |\n",
       "| 4 | 4 | 79.00000 | 80.0 | 13.84984 |  7.735294 |  4.5 |  7.279314 | 34 |\n",
       "| 4 | 5 | 78.51515 | 78.0 | 13.47479 | 10.181818 |  7.0 | 10.607941 | 33 |\n",
       "\n"
      ],
      "text/plain": [
       "   intervention occasion mean_ahi med_ahi ahi_sd   mean_cesd med_cesd cesd_sd  \n",
       "1  1            0        67.08889 66.0    13.98834 15.733333 13.0     11.480022\n",
       "2  1            1        69.53333 70.0    13.41572 15.300000  9.0     14.748816\n",
       "3  1            2        70.34211 70.5    15.70897 13.578947 10.0     13.865437\n",
       "4  1            3        75.03448 74.0    12.75730 12.000000  6.0     13.687847\n",
       "5  1            4        76.50000 78.5    16.16610 11.305556  7.0     10.620249\n",
       "6  1            5        75.48148 76.0    14.46845 13.518519  7.0     14.129539\n",
       "7  2            0        69.14035 67.0    12.94830 15.754386 15.0      9.887367\n",
       "8  2            1        71.58333 73.5    12.51864 14.583333 11.5     11.507321\n",
       "9  2            2        72.95833 74.0    14.04091 12.166667  9.0     11.785915\n",
       "10 2            3        72.46512 75.0    14.19649 12.511628 10.0     10.425180\n",
       "11 2            4        73.43243 75.0    16.64923 13.432432 10.0     12.166759\n",
       "12 2            5        74.48649 77.0    16.16000 14.567568 10.0     14.095982\n",
       "13 3            0        70.31818 71.0    13.76340 16.431818 12.0     13.147460\n",
       "14 3            1        74.00000 76.5    13.73982 12.625000  9.5     10.651852\n",
       "15 3            2        72.15625 74.5    16.30181 14.781250  8.0     14.864407\n",
       "16 3            3        73.90000 75.0    16.72362 13.600000 10.0     13.018819\n",
       "17 3            4        71.07407 74.0    14.57850 14.888889 10.0     14.794316\n",
       "18 3            5        74.56522 75.0    13.72067 13.043478  9.0     12.779523\n",
       "19 4            0        71.75000 71.5    13.48433 13.053571 11.0      9.563985\n",
       "20 4            1        74.17778 75.0    11.39236  9.866667  7.0      7.679962\n",
       "21 4            2        76.51282 78.0    12.02819  9.461538  6.0      8.908441\n",
       "22 4            3        77.13514 81.0    15.67582  9.135135  5.0     10.734581\n",
       "23 4            4        79.00000 80.0    13.84984  7.735294  4.5      7.279314\n",
       "24 4            5        78.51515 78.0    13.47479 10.181818  7.0     10.607941\n",
       "   occasion_count\n",
       "1  45            \n",
       "2  30            \n",
       "3  38            \n",
       "4  29            \n",
       "5  36            \n",
       "6  27            \n",
       "7  57            \n",
       "8  48            \n",
       "9  48            \n",
       "10 43            \n",
       "11 37            \n",
       "12 37            \n",
       "13 44            \n",
       "14 24            \n",
       "15 32            \n",
       "16 30            \n",
       "17 27            \n",
       "18 23            \n",
       "19 56            \n",
       "20 45            \n",
       "21 39            \n",
       "22 37            \n",
       "23 34            \n",
       "24 33            "
      ]
     },
     "metadata": {},
     "output_type": "display_data"
    }
   ],
   "source": [
    "study_summary"
   ]
  },
  {
   "cell_type": "code",
   "execution_count": 8,
   "metadata": {},
   "outputs": [
    {
     "data": {
      "image/png": "[encoded data removed]",
      "text/plain": [
       "plot without title"
      ]
     },
     "metadata": {
      "image/png": {
       "height": 420,
       "width": 420
      },
      "text/plain": {
       "height": 420,
       "width": 420
      }
     },
     "output_type": "display_data"
    }
   ],
   "source": [
    "study_summary %>%\n",
    "    ggplot(., aes(x = occasion, y = med_ahi, color = intervention, group = intervention))+\n",
    "    geom_point(size = 3)+geom_line()"
   ]
  },
  {
   "cell_type": "code",
   "execution_count": 9,
   "metadata": {},
   "outputs": [
    {
     "data": {
      "image/png": "[encoded data removed]",
      "text/plain": [
       "plot without title"
      ]
     },
     "metadata": {
      "image/png": {
       "height": 420,
       "width": 420
      },
      "text/plain": {
       "height": 420,
       "width": 420
      }
     },
     "output_type": "display_data"
    }
   ],
   "source": [
    "study_summary %>%\n",
    "    ggplot(., aes(x = occasion, y = med_cesd, color = intervention, group = intervention))+\n",
    "    geom_point(size = 3)+geom_line()"
   ]
  },
  {
   "cell_type": "markdown",
   "metadata": {},
   "source": [
    "Now that I have an idea of how the trends are shaped, I want to create a facet grid of the box plots for the complete dataset. I'll facet by intervention, and each box plot will represent one of the occasions."
   ]
  },
  {
   "cell_type": "code",
   "execution_count": 10,
   "metadata": {},
   "outputs": [
    {
     "data": {
      "image/png": "[encoded data removed]",
      "text/plain": [
       "plot without title"
      ]
     },
     "metadata": {
      "image/png": {
       "height": 420,
       "width": 420
      },
      "text/plain": {
       "height": 420,
       "width": 420
      }
     },
     "output_type": "display_data"
    }
   ],
   "source": [
    "ggplot(exp_data_multionly, aes(x = occasion, y = ahiTotal))+\n",
    "    geom_boxplot()+\n",
    "    facet_grid(. ~ intervention)"
   ]
  },
  {
   "cell_type": "code",
   "execution_count": 11,
   "metadata": {},
   "outputs": [
    {
     "data": {
      "image/png": "[encoded data removed]",
      "text/plain": [
       "plot without title"
      ]
     },
     "metadata": {
      "image/png": {
       "height": 420,
       "width": 420
      },
      "text/plain": {
       "height": 420,
       "width": 420
      }
     },
     "output_type": "display_data"
    }
   ],
   "source": [
    "ggplot(exp_data_multionly, aes(x = occasion, y = cesdTotal))+\n",
    "    geom_boxplot()+\n",
    "    facet_grid(. ~ intervention)"
   ]
  },
  {
   "cell_type": "markdown",
   "metadata": {},
   "source": [
    "# 3 Significance Testing\n",
    "Next I will assess to what degree the variation between the interventions can be explained by random variance versus being explained by a meaningful difference in effect. To do this, I will use ANOVA. The CESD data appear to be skewed, but still realtively normal. The AHI data appear to be highly normal.\n",
    "\n",
    "For the AHI evaulation, I will look at the 1- and 2- week changes (corresponding to observations 1 and 2, respectively) for each intervention. I will use R's built-in ANOVA function (called aov) to perform this analysis.\n",
    "\n",
    "## 3.1 ANOVA\n",
    "I'll use ANOVA to determine if the changes in AHI and CESD were due to expected variance from sampling, or are more likely due to meaningful differences between the efficacies of the different interventions\n",
    "\n",
    "### 3.1.1 ANOVA on Changes in AHI Score\n",
    "I'll begin by looking at how the AHI scores changed for the four different interventions, at each of the 5 different occasions of measurement."
   ]
  },
  {
   "cell_type": "code",
   "execution_count": 12,
   "metadata": {},
   "outputs": [
    {
     "name": "stderr",
     "output_type": "stream",
     "text": [
      "Using ahiTotal as value column: use value.var to override.\n",
      "\n",
      "Using ahiTotal as value column: use value.var to override.\n",
      "\n",
      "Using ahiTotal as value column: use value.var to override.\n",
      "\n",
      "Using ahiTotal as value column: use value.var to override.\n",
      "\n"
     ]
    },
    {
     "data": {
      "text/html": [
       "<table>\n",
       "<caption>A data.frame: 202 × 13</caption>\n",
       "<thead>\n",
       "\t<tr><th scope=col>id</th><th scope=col>ob0</th><th scope=col>ob1</th><th scope=col>ob2</th><th scope=col>ob3</th><th scope=col>ob4</th><th scope=col>ob5</th><th scope=col>d1wk</th><th scope=col>d2wk</th><th scope=col>d1mo</th><th scope=col>d3mo</th><th scope=col>d6mo</th><th scope=col>intervention</th></tr>\n",
       "\t<tr><th scope=col>&lt;dbl&gt;</th><th scope=col>&lt;dbl&gt;</th><th scope=col>&lt;dbl&gt;</th><th scope=col>&lt;dbl&gt;</th><th scope=col>&lt;dbl&gt;</th><th scope=col>&lt;dbl&gt;</th><th scope=col>&lt;dbl&gt;</th><th scope=col>&lt;dbl&gt;</th><th scope=col>&lt;dbl&gt;</th><th scope=col>&lt;dbl&gt;</th><th scope=col>&lt;dbl&gt;</th><th scope=col>&lt;dbl&gt;</th><th scope=col>&lt;dbl&gt;</th></tr>\n",
       "</thead>\n",
       "<tbody>\n",
       "\t<tr><td>  2</td><td> 73</td><td> 89</td><td> 89</td><td> 93</td><td> 80</td><td> 77</td><td> 16</td><td> 16</td><td> 20</td><td>  7</td><td>  4</td><td>1</td></tr>\n",
       "\t<tr><td>  6</td><td> 62</td><td>NaN</td><td> 67</td><td> 66</td><td>NaN</td><td>NaN</td><td>NaN</td><td>  5</td><td>  4</td><td>NaN</td><td>NaN</td><td>1</td></tr>\n",
       "\t<tr><td> 19</td><td> 73</td><td> 67</td><td>NaN</td><td> 71</td><td> 66</td><td> 76</td><td> -6</td><td>NaN</td><td> -2</td><td> -7</td><td>  3</td><td>1</td></tr>\n",
       "\t<tr><td> 28</td><td> 63</td><td> 89</td><td> 87</td><td> 92</td><td> 87</td><td> 92</td><td> 26</td><td> 24</td><td> 29</td><td> 24</td><td> 29</td><td>1</td></tr>\n",
       "\t<tr><td> 31</td><td> 56</td><td> 64</td><td>NaN</td><td>NaN</td><td>NaN</td><td>NaN</td><td>  8</td><td>NaN</td><td>NaN</td><td>NaN</td><td>NaN</td><td>1</td></tr>\n",
       "\t<tr><td> 34</td><td> 73</td><td>NaN</td><td> 85</td><td> 63</td><td> 72</td><td> 74</td><td>NaN</td><td> 12</td><td>-10</td><td> -1</td><td>  1</td><td>1</td></tr>\n",
       "\t<tr><td> 36</td><td> 57</td><td> 58</td><td> 58</td><td>NaN</td><td>NaN</td><td>NaN</td><td>  1</td><td>  1</td><td>NaN</td><td>NaN</td><td>NaN</td><td>1</td></tr>\n",
       "\t<tr><td> 53</td><td> 76</td><td> 74</td><td> 76</td><td>NaN</td><td> 75</td><td> 81</td><td> -2</td><td>  0</td><td>NaN</td><td> -1</td><td>  5</td><td>1</td></tr>\n",
       "\t<tr><td> 64</td><td> 61</td><td> 61</td><td> 66</td><td>NaN</td><td> 63</td><td> 67</td><td>  0</td><td>  5</td><td>NaN</td><td>  2</td><td>  6</td><td>1</td></tr>\n",
       "\t<tr><td> 67</td><td> 59</td><td> 64</td><td> 65</td><td> 68</td><td> 67</td><td>NaN</td><td>  5</td><td>  6</td><td>  9</td><td>  8</td><td>NaN</td><td>1</td></tr>\n",
       "\t<tr><td> 76</td><td> 95</td><td>NaN</td><td> 78</td><td> 93</td><td>105</td><td>110</td><td>NaN</td><td>-17</td><td> -2</td><td> 10</td><td> 15</td><td>1</td></tr>\n",
       "\t<tr><td> 77</td><td> 74</td><td> 86</td><td> 78</td><td> 83</td><td> 58</td><td>NaN</td><td> 12</td><td>  4</td><td>  9</td><td>-16</td><td>NaN</td><td>1</td></tr>\n",
       "\t<tr><td> 81</td><td> 67</td><td>NaN</td><td> 65</td><td>NaN</td><td>NaN</td><td>NaN</td><td>NaN</td><td> -2</td><td>NaN</td><td>NaN</td><td>NaN</td><td>1</td></tr>\n",
       "\t<tr><td> 96</td><td> 53</td><td>NaN</td><td> 53</td><td>NaN</td><td>NaN</td><td>NaN</td><td>NaN</td><td>  0</td><td>NaN</td><td>NaN</td><td>NaN</td><td>1</td></tr>\n",
       "\t<tr><td>100</td><td> 67</td><td> 72</td><td>NaN</td><td>NaN</td><td>NaN</td><td>NaN</td><td>  5</td><td>NaN</td><td>NaN</td><td>NaN</td><td>NaN</td><td>1</td></tr>\n",
       "\t<tr><td>107</td><td>106</td><td>NaN</td><td>108</td><td>NaN</td><td>106</td><td>NaN</td><td>NaN</td><td>  2</td><td>NaN</td><td>  0</td><td>NaN</td><td>1</td></tr>\n",
       "\t<tr><td>113</td><td> 44</td><td> 48</td><td> 38</td><td>NaN</td><td> 46</td><td> 44</td><td>  4</td><td> -6</td><td>NaN</td><td>  2</td><td>  0</td><td>1</td></tr>\n",
       "\t<tr><td>114</td><td> 84</td><td> 91</td><td> 84</td><td> 87</td><td> 90</td><td> 90</td><td>  7</td><td>  0</td><td>  3</td><td>  6</td><td>  6</td><td>1</td></tr>\n",
       "\t<tr><td>115</td><td> 78</td><td>NaN</td><td>NaN</td><td>NaN</td><td> 88</td><td>NaN</td><td>NaN</td><td>NaN</td><td>NaN</td><td> 10</td><td>NaN</td><td>1</td></tr>\n",
       "\t<tr><td>122</td><td> 85</td><td>NaN</td><td> 96</td><td> 95</td><td> 82</td><td> 70</td><td>NaN</td><td> 11</td><td> 10</td><td> -3</td><td>-15</td><td>1</td></tr>\n",
       "\t<tr><td>127</td><td> 68</td><td> 74</td><td> 73</td><td> 72</td><td> 74</td><td> 82</td><td>  6</td><td>  5</td><td>  4</td><td>  6</td><td> 14</td><td>1</td></tr>\n",
       "\t<tr><td>134</td><td> 66</td><td> 73</td><td> 71</td><td> 74</td><td> 74</td><td> 74</td><td>  7</td><td>  5</td><td>  8</td><td>  8</td><td>  8</td><td>1</td></tr>\n",
       "\t<tr><td>138</td><td> 62</td><td>NaN</td><td> 69</td><td> 67</td><td> 65</td><td>NaN</td><td>NaN</td><td>  7</td><td>  5</td><td>  3</td><td>NaN</td><td>1</td></tr>\n",
       "\t<tr><td>144</td><td> 59</td><td> 63</td><td> 69</td><td> 73</td><td> 75</td><td>NaN</td><td>  4</td><td> 10</td><td> 14</td><td> 16</td><td>NaN</td><td>1</td></tr>\n",
       "\t<tr><td>169</td><td> 46</td><td> 48</td><td> 45</td><td> 51</td><td> 41</td><td> 61</td><td>  2</td><td> -1</td><td>  5</td><td> -5</td><td> 15</td><td>1</td></tr>\n",
       "\t<tr><td>175</td><td> 69</td><td> 62</td><td>NaN</td><td>NaN</td><td> 70</td><td>NaN</td><td> -7</td><td>NaN</td><td>NaN</td><td>  1</td><td>NaN</td><td>1</td></tr>\n",
       "\t<tr><td>177</td><td> 56</td><td> 53</td><td> 56</td><td> 60</td><td> 61</td><td> 71</td><td> -3</td><td>  0</td><td>  4</td><td>  5</td><td> 15</td><td>1</td></tr>\n",
       "\t<tr><td>178</td><td> 78</td><td> 77</td><td> 78</td><td> 79</td><td> 83</td><td> 79</td><td> -1</td><td>  0</td><td>  1</td><td>  5</td><td>  1</td><td>1</td></tr>\n",
       "\t<tr><td>180</td><td> 85</td><td>NaN</td><td>NaN</td><td>NaN</td><td> 93</td><td>NaN</td><td>NaN</td><td>NaN</td><td>NaN</td><td>  8</td><td>NaN</td><td>1</td></tr>\n",
       "\t<tr><td>187</td><td> 81</td><td> 79</td><td> 74</td><td> 78</td><td> 83</td><td> 72</td><td> -2</td><td> -7</td><td> -3</td><td>  2</td><td> -9</td><td>1</td></tr>\n",
       "\t<tr><td>⋮</td><td>⋮</td><td>⋮</td><td>⋮</td><td>⋮</td><td>⋮</td><td>⋮</td><td>⋮</td><td>⋮</td><td>⋮</td><td>⋮</td><td>⋮</td><td>⋮</td></tr>\n",
       "\t<tr><td>156</td><td> 85</td><td>NaN</td><td>NaN</td><td> 87</td><td> 84</td><td> 91</td><td>NaN</td><td>NaN</td><td>  2</td><td> -1</td><td>  6</td><td>4</td></tr>\n",
       "\t<tr><td>158</td><td> 90</td><td> 90</td><td> 93</td><td> 95</td><td> 92</td><td>NaN</td><td>  0</td><td>  3</td><td>  5</td><td>  2</td><td>NaN</td><td>4</td></tr>\n",
       "\t<tr><td>159</td><td> 59</td><td> 71</td><td>NaN</td><td>NaN</td><td>NaN</td><td> 78</td><td> 12</td><td>NaN</td><td>NaN</td><td>NaN</td><td> 19</td><td>4</td></tr>\n",
       "\t<tr><td>160</td><td> 86</td><td>NaN</td><td> 88</td><td> 93</td><td> 94</td><td> 93</td><td>NaN</td><td>  2</td><td>  7</td><td>  8</td><td>  7</td><td>4</td></tr>\n",
       "\t<tr><td>166</td><td> 70</td><td> 65</td><td>NaN</td><td>NaN</td><td>NaN</td><td>NaN</td><td> -5</td><td>NaN</td><td>NaN</td><td>NaN</td><td>NaN</td><td>4</td></tr>\n",
       "\t<tr><td>183</td><td> 76</td><td> 72</td><td>NaN</td><td>NaN</td><td>NaN</td><td>NaN</td><td> -4</td><td>NaN</td><td>NaN</td><td>NaN</td><td>NaN</td><td>4</td></tr>\n",
       "\t<tr><td>186</td><td> 86</td><td> 77</td><td> 75</td><td> 72</td><td> 74</td><td> 77</td><td> -9</td><td>-11</td><td>-14</td><td>-12</td><td> -9</td><td>4</td></tr>\n",
       "\t<tr><td>192</td><td> 62</td><td> 75</td><td>NaN</td><td>NaN</td><td>NaN</td><td>NaN</td><td> 13</td><td>NaN</td><td>NaN</td><td>NaN</td><td>NaN</td><td>4</td></tr>\n",
       "\t<tr><td>197</td><td> 93</td><td>NaN</td><td> 92</td><td> 96</td><td> 94</td><td> 85</td><td>NaN</td><td> -1</td><td>  3</td><td>  1</td><td> -8</td><td>4</td></tr>\n",
       "\t<tr><td>202</td><td> 69</td><td>NaN</td><td> 74</td><td>NaN</td><td>NaN</td><td> 82</td><td>NaN</td><td>  5</td><td>NaN</td><td>NaN</td><td> 13</td><td>4</td></tr>\n",
       "\t<tr><td>204</td><td> 65</td><td> 58</td><td>NaN</td><td>NaN</td><td>NaN</td><td>NaN</td><td> -7</td><td>NaN</td><td>NaN</td><td>NaN</td><td>NaN</td><td>4</td></tr>\n",
       "\t<tr><td>215</td><td> 76</td><td> 81</td><td> 89</td><td> 96</td><td> 77</td><td>NaN</td><td>  5</td><td> 13</td><td> 20</td><td>  1</td><td>NaN</td><td>4</td></tr>\n",
       "\t<tr><td>217</td><td> 87</td><td> 67</td><td> 72</td><td> 49</td><td>NaN</td><td> 90</td><td>-20</td><td>-15</td><td>-38</td><td>NaN</td><td>  3</td><td>4</td></tr>\n",
       "\t<tr><td>227</td><td> 73</td><td> 89</td><td> 89</td><td> 97</td><td>NaN</td><td>NaN</td><td> 16</td><td> 16</td><td> 24</td><td>NaN</td><td>NaN</td><td>4</td></tr>\n",
       "\t<tr><td>229</td><td> 81</td><td> 84</td><td> 79</td><td> 81</td><td>NaN</td><td>NaN</td><td>  3</td><td> -2</td><td>  0</td><td>NaN</td><td>NaN</td><td>4</td></tr>\n",
       "\t<tr><td>237</td><td> 69</td><td> 70</td><td> 75</td><td> 85</td><td> 66</td><td> 73</td><td>  1</td><td>  6</td><td> 16</td><td> -3</td><td>  4</td><td>4</td></tr>\n",
       "\t<tr><td>238</td><td>100</td><td> 90</td><td> 90</td><td> 92</td><td> 92</td><td> 92</td><td>-10</td><td>-10</td><td> -8</td><td> -8</td><td> -8</td><td>4</td></tr>\n",
       "\t<tr><td>241</td><td> 76</td><td> 81</td><td> 83</td><td> 83</td><td> 90</td><td> 85</td><td>  5</td><td>  7</td><td>  7</td><td> 14</td><td>  9</td><td>4</td></tr>\n",
       "\t<tr><td>242</td><td> 83</td><td> 91</td><td>NaN</td><td>NaN</td><td>NaN</td><td>NaN</td><td>  8</td><td>NaN</td><td>NaN</td><td>NaN</td><td>NaN</td><td>4</td></tr>\n",
       "\t<tr><td>243</td><td> 90</td><td> 99</td><td> 87</td><td> 85</td><td> 82</td><td> 75</td><td>  9</td><td> -3</td><td> -5</td><td> -8</td><td>-15</td><td>4</td></tr>\n",
       "\t<tr><td>245</td><td> 77</td><td> 80</td><td> 74</td><td> 78</td><td> 75</td><td> 78</td><td>  3</td><td> -3</td><td>  1</td><td> -2</td><td>  1</td><td>4</td></tr>\n",
       "\t<tr><td>251</td><td> 70</td><td> 72</td><td> 68</td><td> 72</td><td> 75</td><td> 72</td><td>  2</td><td> -2</td><td>  2</td><td>  5</td><td>  2</td><td>4</td></tr>\n",
       "\t<tr><td>255</td><td> 64</td><td>NaN</td><td> 80</td><td> 61</td><td> 69</td><td> 84</td><td>NaN</td><td> 16</td><td> -3</td><td>  5</td><td> 20</td><td>4</td></tr>\n",
       "\t<tr><td>259</td><td> 77</td><td> 77</td><td> 78</td><td> 79</td><td> 80</td><td> 87</td><td>  0</td><td>  1</td><td>  2</td><td>  3</td><td> 10</td><td>4</td></tr>\n",
       "\t<tr><td>266</td><td> 66</td><td>NaN</td><td> 81</td><td>NaN</td><td>NaN</td><td>NaN</td><td>NaN</td><td> 15</td><td>NaN</td><td>NaN</td><td>NaN</td><td>4</td></tr>\n",
       "\t<tr><td>267</td><td> 35</td><td>NaN</td><td> 43</td><td> 45</td><td> 55</td><td> 69</td><td>NaN</td><td>  8</td><td> 10</td><td> 20</td><td> 34</td><td>4</td></tr>\n",
       "\t<tr><td>270</td><td> 76</td><td> 77</td><td>NaN</td><td>NaN</td><td>NaN</td><td>NaN</td><td>  1</td><td>NaN</td><td>NaN</td><td>NaN</td><td>NaN</td><td>4</td></tr>\n",
       "\t<tr><td>278</td><td> 58</td><td> 80</td><td> 87</td><td> 84</td><td> 99</td><td> 78</td><td> 22</td><td> 29</td><td> 26</td><td> 41</td><td> 20</td><td>4</td></tr>\n",
       "\t<tr><td>281</td><td> 69</td><td> 76</td><td> 75</td><td> 87</td><td> 89</td><td> 87</td><td>  7</td><td>  6</td><td> 18</td><td> 20</td><td> 18</td><td>4</td></tr>\n",
       "\t<tr><td>292</td><td> 50</td><td> 70</td><td>NaN</td><td>NaN</td><td>NaN</td><td>NaN</td><td> 20</td><td>NaN</td><td>NaN</td><td>NaN</td><td>NaN</td><td>4</td></tr>\n",
       "</tbody>\n",
       "</table>\n"
      ],
      "text/latex": [
       "A data.frame: 202 × 13\n",
       "\\begin{tabular}{lllllllllllll}\n",
       " id & ob0 & ob1 & ob2 & ob3 & ob4 & ob5 & d1wk & d2wk & d1mo & d3mo & d6mo & intervention\\\\\n",
       " <dbl> & <dbl> & <dbl> & <dbl> & <dbl> & <dbl> & <dbl> & <dbl> & <dbl> & <dbl> & <dbl> & <dbl> & <dbl>\\\\\n",
       "\\hline\n",
       "\t   2 &  73 &  89 &  89 &  93 &  80 &  77 &  16 &  16 &  20 &   7 &   4 & 1\\\\\n",
       "\t   6 &  62 & NaN &  67 &  66 & NaN & NaN & NaN &   5 &   4 & NaN & NaN & 1\\\\\n",
       "\t  19 &  73 &  67 & NaN &  71 &  66 &  76 &  -6 & NaN &  -2 &  -7 &   3 & 1\\\\\n",
       "\t  28 &  63 &  89 &  87 &  92 &  87 &  92 &  26 &  24 &  29 &  24 &  29 & 1\\\\\n",
       "\t  31 &  56 &  64 & NaN & NaN & NaN & NaN &   8 & NaN & NaN & NaN & NaN & 1\\\\\n",
       "\t  34 &  73 & NaN &  85 &  63 &  72 &  74 & NaN &  12 & -10 &  -1 &   1 & 1\\\\\n",
       "\t  36 &  57 &  58 &  58 & NaN & NaN & NaN &   1 &   1 & NaN & NaN & NaN & 1\\\\\n",
       "\t  53 &  76 &  74 &  76 & NaN &  75 &  81 &  -2 &   0 & NaN &  -1 &   5 & 1\\\\\n",
       "\t  64 &  61 &  61 &  66 & NaN &  63 &  67 &   0 &   5 & NaN &   2 &   6 & 1\\\\\n",
       "\t  67 &  59 &  64 &  65 &  68 &  67 & NaN &   5 &   6 &   9 &   8 & NaN & 1\\\\\n",
       "\t  76 &  95 & NaN &  78 &  93 & 105 & 110 & NaN & -17 &  -2 &  10 &  15 & 1\\\\\n",
       "\t  77 &  74 &  86 &  78 &  83 &  58 & NaN &  12 &   4 &   9 & -16 & NaN & 1\\\\\n",
       "\t  81 &  67 & NaN &  65 & NaN & NaN & NaN & NaN &  -2 & NaN & NaN & NaN & 1\\\\\n",
       "\t  96 &  53 & NaN &  53 & NaN & NaN & NaN & NaN &   0 & NaN & NaN & NaN & 1\\\\\n",
       "\t 100 &  67 &  72 & NaN & NaN & NaN & NaN &   5 & NaN & NaN & NaN & NaN & 1\\\\\n",
       "\t 107 & 106 & NaN & 108 & NaN & 106 & NaN & NaN &   2 & NaN &   0 & NaN & 1\\\\\n",
       "\t 113 &  44 &  48 &  38 & NaN &  46 &  44 &   4 &  -6 & NaN &   2 &   0 & 1\\\\\n",
       "\t 114 &  84 &  91 &  84 &  87 &  90 &  90 &   7 &   0 &   3 &   6 &   6 & 1\\\\\n",
       "\t 115 &  78 & NaN & NaN & NaN &  88 & NaN & NaN & NaN & NaN &  10 & NaN & 1\\\\\n",
       "\t 122 &  85 & NaN &  96 &  95 &  82 &  70 & NaN &  11 &  10 &  -3 & -15 & 1\\\\\n",
       "\t 127 &  68 &  74 &  73 &  72 &  74 &  82 &   6 &   5 &   4 &   6 &  14 & 1\\\\\n",
       "\t 134 &  66 &  73 &  71 &  74 &  74 &  74 &   7 &   5 &   8 &   8 &   8 & 1\\\\\n",
       "\t 138 &  62 & NaN &  69 &  67 &  65 & NaN & NaN &   7 &   5 &   3 & NaN & 1\\\\\n",
       "\t 144 &  59 &  63 &  69 &  73 &  75 & NaN &   4 &  10 &  14 &  16 & NaN & 1\\\\\n",
       "\t 169 &  46 &  48 &  45 &  51 &  41 &  61 &   2 &  -1 &   5 &  -5 &  15 & 1\\\\\n",
       "\t 175 &  69 &  62 & NaN & NaN &  70 & NaN &  -7 & NaN & NaN &   1 & NaN & 1\\\\\n",
       "\t 177 &  56 &  53 &  56 &  60 &  61 &  71 &  -3 &   0 &   4 &   5 &  15 & 1\\\\\n",
       "\t 178 &  78 &  77 &  78 &  79 &  83 &  79 &  -1 &   0 &   1 &   5 &   1 & 1\\\\\n",
       "\t 180 &  85 & NaN & NaN & NaN &  93 & NaN & NaN & NaN & NaN &   8 & NaN & 1\\\\\n",
       "\t 187 &  81 &  79 &  74 &  78 &  83 &  72 &  -2 &  -7 &  -3 &   2 &  -9 & 1\\\\\n",
       "\t ⋮ & ⋮ & ⋮ & ⋮ & ⋮ & ⋮ & ⋮ & ⋮ & ⋮ & ⋮ & ⋮ & ⋮ & ⋮\\\\\n",
       "\t 156 &  85 & NaN & NaN &  87 &  84 &  91 & NaN & NaN &   2 &  -1 &   6 & 4\\\\\n",
       "\t 158 &  90 &  90 &  93 &  95 &  92 & NaN &   0 &   3 &   5 &   2 & NaN & 4\\\\\n",
       "\t 159 &  59 &  71 & NaN & NaN & NaN &  78 &  12 & NaN & NaN & NaN &  19 & 4\\\\\n",
       "\t 160 &  86 & NaN &  88 &  93 &  94 &  93 & NaN &   2 &   7 &   8 &   7 & 4\\\\\n",
       "\t 166 &  70 &  65 & NaN & NaN & NaN & NaN &  -5 & NaN & NaN & NaN & NaN & 4\\\\\n",
       "\t 183 &  76 &  72 & NaN & NaN & NaN & NaN &  -4 & NaN & NaN & NaN & NaN & 4\\\\\n",
       "\t 186 &  86 &  77 &  75 &  72 &  74 &  77 &  -9 & -11 & -14 & -12 &  -9 & 4\\\\\n",
       "\t 192 &  62 &  75 & NaN & NaN & NaN & NaN &  13 & NaN & NaN & NaN & NaN & 4\\\\\n",
       "\t 197 &  93 & NaN &  92 &  96 &  94 &  85 & NaN &  -1 &   3 &   1 &  -8 & 4\\\\\n",
       "\t 202 &  69 & NaN &  74 & NaN & NaN &  82 & NaN &   5 & NaN & NaN &  13 & 4\\\\\n",
       "\t 204 &  65 &  58 & NaN & NaN & NaN & NaN &  -7 & NaN & NaN & NaN & NaN & 4\\\\\n",
       "\t 215 &  76 &  81 &  89 &  96 &  77 & NaN &   5 &  13 &  20 &   1 & NaN & 4\\\\\n",
       "\t 217 &  87 &  67 &  72 &  49 & NaN &  90 & -20 & -15 & -38 & NaN &   3 & 4\\\\\n",
       "\t 227 &  73 &  89 &  89 &  97 & NaN & NaN &  16 &  16 &  24 & NaN & NaN & 4\\\\\n",
       "\t 229 &  81 &  84 &  79 &  81 & NaN & NaN &   3 &  -2 &   0 & NaN & NaN & 4\\\\\n",
       "\t 237 &  69 &  70 &  75 &  85 &  66 &  73 &   1 &   6 &  16 &  -3 &   4 & 4\\\\\n",
       "\t 238 & 100 &  90 &  90 &  92 &  92 &  92 & -10 & -10 &  -8 &  -8 &  -8 & 4\\\\\n",
       "\t 241 &  76 &  81 &  83 &  83 &  90 &  85 &   5 &   7 &   7 &  14 &   9 & 4\\\\\n",
       "\t 242 &  83 &  91 & NaN & NaN & NaN & NaN &   8 & NaN & NaN & NaN & NaN & 4\\\\\n",
       "\t 243 &  90 &  99 &  87 &  85 &  82 &  75 &   9 &  -3 &  -5 &  -8 & -15 & 4\\\\\n",
       "\t 245 &  77 &  80 &  74 &  78 &  75 &  78 &   3 &  -3 &   1 &  -2 &   1 & 4\\\\\n",
       "\t 251 &  70 &  72 &  68 &  72 &  75 &  72 &   2 &  -2 &   2 &   5 &   2 & 4\\\\\n",
       "\t 255 &  64 & NaN &  80 &  61 &  69 &  84 & NaN &  16 &  -3 &   5 &  20 & 4\\\\\n",
       "\t 259 &  77 &  77 &  78 &  79 &  80 &  87 &   0 &   1 &   2 &   3 &  10 & 4\\\\\n",
       "\t 266 &  66 & NaN &  81 & NaN & NaN & NaN & NaN &  15 & NaN & NaN & NaN & 4\\\\\n",
       "\t 267 &  35 & NaN &  43 &  45 &  55 &  69 & NaN &   8 &  10 &  20 &  34 & 4\\\\\n",
       "\t 270 &  76 &  77 & NaN & NaN & NaN & NaN &   1 & NaN & NaN & NaN & NaN & 4\\\\\n",
       "\t 278 &  58 &  80 &  87 &  84 &  99 &  78 &  22 &  29 &  26 &  41 &  20 & 4\\\\\n",
       "\t 281 &  69 &  76 &  75 &  87 &  89 &  87 &   7 &   6 &  18 &  20 &  18 & 4\\\\\n",
       "\t 292 &  50 &  70 & NaN & NaN & NaN & NaN &  20 & NaN & NaN & NaN & NaN & 4\\\\\n",
       "\\end{tabular}\n"
      ],
      "text/markdown": [
       "\n",
       "A data.frame: 202 × 13\n",
       "\n",
       "| id &lt;dbl&gt; | ob0 &lt;dbl&gt; | ob1 &lt;dbl&gt; | ob2 &lt;dbl&gt; | ob3 &lt;dbl&gt; | ob4 &lt;dbl&gt; | ob5 &lt;dbl&gt; | d1wk &lt;dbl&gt; | d2wk &lt;dbl&gt; | d1mo &lt;dbl&gt; | d3mo &lt;dbl&gt; | d6mo &lt;dbl&gt; | intervention &lt;dbl&gt; |\n",
       "|---|---|---|---|---|---|---|---|---|---|---|---|---|\n",
       "|   2 |  73 |  89 |  89 |  93 |  80 |  77 |  16 |  16 |  20 |   7 |   4 | 1 |\n",
       "|   6 |  62 | NaN |  67 |  66 | NaN | NaN | NaN |   5 |   4 | NaN | NaN | 1 |\n",
       "|  19 |  73 |  67 | NaN |  71 |  66 |  76 |  -6 | NaN |  -2 |  -7 |   3 | 1 |\n",
       "|  28 |  63 |  89 |  87 |  92 |  87 |  92 |  26 |  24 |  29 |  24 |  29 | 1 |\n",
       "|  31 |  56 |  64 | NaN | NaN | NaN | NaN |   8 | NaN | NaN | NaN | NaN | 1 |\n",
       "|  34 |  73 | NaN |  85 |  63 |  72 |  74 | NaN |  12 | -10 |  -1 |   1 | 1 |\n",
       "|  36 |  57 |  58 |  58 | NaN | NaN | NaN |   1 |   1 | NaN | NaN | NaN | 1 |\n",
       "|  53 |  76 |  74 |  76 | NaN |  75 |  81 |  -2 |   0 | NaN |  -1 |   5 | 1 |\n",
       "|  64 |  61 |  61 |  66 | NaN |  63 |  67 |   0 |   5 | NaN |   2 |   6 | 1 |\n",
       "|  67 |  59 |  64 |  65 |  68 |  67 | NaN |   5 |   6 |   9 |   8 | NaN | 1 |\n",
       "|  76 |  95 | NaN |  78 |  93 | 105 | 110 | NaN | -17 |  -2 |  10 |  15 | 1 |\n",
       "|  77 |  74 |  86 |  78 |  83 |  58 | NaN |  12 |   4 |   9 | -16 | NaN | 1 |\n",
       "|  81 |  67 | NaN |  65 | NaN | NaN | NaN | NaN |  -2 | NaN | NaN | NaN | 1 |\n",
       "|  96 |  53 | NaN |  53 | NaN | NaN | NaN | NaN |   0 | NaN | NaN | NaN | 1 |\n",
       "| 100 |  67 |  72 | NaN | NaN | NaN | NaN |   5 | NaN | NaN | NaN | NaN | 1 |\n",
       "| 107 | 106 | NaN | 108 | NaN | 106 | NaN | NaN |   2 | NaN |   0 | NaN | 1 |\n",
       "| 113 |  44 |  48 |  38 | NaN |  46 |  44 |   4 |  -6 | NaN |   2 |   0 | 1 |\n",
       "| 114 |  84 |  91 |  84 |  87 |  90 |  90 |   7 |   0 |   3 |   6 |   6 | 1 |\n",
       "| 115 |  78 | NaN | NaN | NaN |  88 | NaN | NaN | NaN | NaN |  10 | NaN | 1 |\n",
       "| 122 |  85 | NaN |  96 |  95 |  82 |  70 | NaN |  11 |  10 |  -3 | -15 | 1 |\n",
       "| 127 |  68 |  74 |  73 |  72 |  74 |  82 |   6 |   5 |   4 |   6 |  14 | 1 |\n",
       "| 134 |  66 |  73 |  71 |  74 |  74 |  74 |   7 |   5 |   8 |   8 |   8 | 1 |\n",
       "| 138 |  62 | NaN |  69 |  67 |  65 | NaN | NaN |   7 |   5 |   3 | NaN | 1 |\n",
       "| 144 |  59 |  63 |  69 |  73 |  75 | NaN |   4 |  10 |  14 |  16 | NaN | 1 |\n",
       "| 169 |  46 |  48 |  45 |  51 |  41 |  61 |   2 |  -1 |   5 |  -5 |  15 | 1 |\n",
       "| 175 |  69 |  62 | NaN | NaN |  70 | NaN |  -7 | NaN | NaN |   1 | NaN | 1 |\n",
       "| 177 |  56 |  53 |  56 |  60 |  61 |  71 |  -3 |   0 |   4 |   5 |  15 | 1 |\n",
       "| 178 |  78 |  77 |  78 |  79 |  83 |  79 |  -1 |   0 |   1 |   5 |   1 | 1 |\n",
       "| 180 |  85 | NaN | NaN | NaN |  93 | NaN | NaN | NaN | NaN |   8 | NaN | 1 |\n",
       "| 187 |  81 |  79 |  74 |  78 |  83 |  72 |  -2 |  -7 |  -3 |   2 |  -9 | 1 |\n",
       "| ⋮ | ⋮ | ⋮ | ⋮ | ⋮ | ⋮ | ⋮ | ⋮ | ⋮ | ⋮ | ⋮ | ⋮ | ⋮ |\n",
       "| 156 |  85 | NaN | NaN |  87 |  84 |  91 | NaN | NaN |   2 |  -1 |   6 | 4 |\n",
       "| 158 |  90 |  90 |  93 |  95 |  92 | NaN |   0 |   3 |   5 |   2 | NaN | 4 |\n",
       "| 159 |  59 |  71 | NaN | NaN | NaN |  78 |  12 | NaN | NaN | NaN |  19 | 4 |\n",
       "| 160 |  86 | NaN |  88 |  93 |  94 |  93 | NaN |   2 |   7 |   8 |   7 | 4 |\n",
       "| 166 |  70 |  65 | NaN | NaN | NaN | NaN |  -5 | NaN | NaN | NaN | NaN | 4 |\n",
       "| 183 |  76 |  72 | NaN | NaN | NaN | NaN |  -4 | NaN | NaN | NaN | NaN | 4 |\n",
       "| 186 |  86 |  77 |  75 |  72 |  74 |  77 |  -9 | -11 | -14 | -12 |  -9 | 4 |\n",
       "| 192 |  62 |  75 | NaN | NaN | NaN | NaN |  13 | NaN | NaN | NaN | NaN | 4 |\n",
       "| 197 |  93 | NaN |  92 |  96 |  94 |  85 | NaN |  -1 |   3 |   1 |  -8 | 4 |\n",
       "| 202 |  69 | NaN |  74 | NaN | NaN |  82 | NaN |   5 | NaN | NaN |  13 | 4 |\n",
       "| 204 |  65 |  58 | NaN | NaN | NaN | NaN |  -7 | NaN | NaN | NaN | NaN | 4 |\n",
       "| 215 |  76 |  81 |  89 |  96 |  77 | NaN |   5 |  13 |  20 |   1 | NaN | 4 |\n",
       "| 217 |  87 |  67 |  72 |  49 | NaN |  90 | -20 | -15 | -38 | NaN |   3 | 4 |\n",
       "| 227 |  73 |  89 |  89 |  97 | NaN | NaN |  16 |  16 |  24 | NaN | NaN | 4 |\n",
       "| 229 |  81 |  84 |  79 |  81 | NaN | NaN |   3 |  -2 |   0 | NaN | NaN | 4 |\n",
       "| 237 |  69 |  70 |  75 |  85 |  66 |  73 |   1 |   6 |  16 |  -3 |   4 | 4 |\n",
       "| 238 | 100 |  90 |  90 |  92 |  92 |  92 | -10 | -10 |  -8 |  -8 |  -8 | 4 |\n",
       "| 241 |  76 |  81 |  83 |  83 |  90 |  85 |   5 |   7 |   7 |  14 |   9 | 4 |\n",
       "| 242 |  83 |  91 | NaN | NaN | NaN | NaN |   8 | NaN | NaN | NaN | NaN | 4 |\n",
       "| 243 |  90 |  99 |  87 |  85 |  82 |  75 |   9 |  -3 |  -5 |  -8 | -15 | 4 |\n",
       "| 245 |  77 |  80 |  74 |  78 |  75 |  78 |   3 |  -3 |   1 |  -2 |   1 | 4 |\n",
       "| 251 |  70 |  72 |  68 |  72 |  75 |  72 |   2 |  -2 |   2 |   5 |   2 | 4 |\n",
       "| 255 |  64 | NaN |  80 |  61 |  69 |  84 | NaN |  16 |  -3 |   5 |  20 | 4 |\n",
       "| 259 |  77 |  77 |  78 |  79 |  80 |  87 |   0 |   1 |   2 |   3 |  10 | 4 |\n",
       "| 266 |  66 | NaN |  81 | NaN | NaN | NaN | NaN |  15 | NaN | NaN | NaN | 4 |\n",
       "| 267 |  35 | NaN |  43 |  45 |  55 |  69 | NaN |   8 |  10 |  20 |  34 | 4 |\n",
       "| 270 |  76 |  77 | NaN | NaN | NaN | NaN |   1 | NaN | NaN | NaN | NaN | 4 |\n",
       "| 278 |  58 |  80 |  87 |  84 |  99 |  78 |  22 |  29 |  26 |  41 |  20 | 4 |\n",
       "| 281 |  69 |  76 |  75 |  87 |  89 |  87 |   7 |   6 |  18 |  20 |  18 | 4 |\n",
       "| 292 |  50 |  70 | NaN | NaN | NaN | NaN |  20 | NaN | NaN | NaN | NaN | 4 |\n",
       "\n"
      ],
      "text/plain": [
       "    id  ob0 ob1 ob2 ob3 ob4 ob5 d1wk d2wk d1mo d3mo d6mo intervention\n",
       "1     2  73  89  89  93  80  77  16   16   20    7    4  1           \n",
       "2     6  62 NaN  67  66 NaN NaN NaN    5    4  NaN  NaN  1           \n",
       "3    19  73  67 NaN  71  66  76  -6  NaN   -2   -7    3  1           \n",
       "4    28  63  89  87  92  87  92  26   24   29   24   29  1           \n",
       "5    31  56  64 NaN NaN NaN NaN   8  NaN  NaN  NaN  NaN  1           \n",
       "6    34  73 NaN  85  63  72  74 NaN   12  -10   -1    1  1           \n",
       "7    36  57  58  58 NaN NaN NaN   1    1  NaN  NaN  NaN  1           \n",
       "8    53  76  74  76 NaN  75  81  -2    0  NaN   -1    5  1           \n",
       "9    64  61  61  66 NaN  63  67   0    5  NaN    2    6  1           \n",
       "10   67  59  64  65  68  67 NaN   5    6    9    8  NaN  1           \n",
       "11   76  95 NaN  78  93 105 110 NaN  -17   -2   10   15  1           \n",
       "12   77  74  86  78  83  58 NaN  12    4    9  -16  NaN  1           \n",
       "13   81  67 NaN  65 NaN NaN NaN NaN   -2  NaN  NaN  NaN  1           \n",
       "14   96  53 NaN  53 NaN NaN NaN NaN    0  NaN  NaN  NaN  1           \n",
       "15  100  67  72 NaN NaN NaN NaN   5  NaN  NaN  NaN  NaN  1           \n",
       "16  107 106 NaN 108 NaN 106 NaN NaN    2  NaN    0  NaN  1           \n",
       "17  113  44  48  38 NaN  46  44   4   -6  NaN    2    0  1           \n",
       "18  114  84  91  84  87  90  90   7    0    3    6    6  1           \n",
       "19  115  78 NaN NaN NaN  88 NaN NaN  NaN  NaN   10  NaN  1           \n",
       "20  122  85 NaN  96  95  82  70 NaN   11   10   -3  -15  1           \n",
       "21  127  68  74  73  72  74  82   6    5    4    6   14  1           \n",
       "22  134  66  73  71  74  74  74   7    5    8    8    8  1           \n",
       "23  138  62 NaN  69  67  65 NaN NaN    7    5    3  NaN  1           \n",
       "24  144  59  63  69  73  75 NaN   4   10   14   16  NaN  1           \n",
       "25  169  46  48  45  51  41  61   2   -1    5   -5   15  1           \n",
       "26  175  69  62 NaN NaN  70 NaN  -7  NaN  NaN    1  NaN  1           \n",
       "27  177  56  53  56  60  61  71  -3    0    4    5   15  1           \n",
       "28  178  78  77  78  79  83  79  -1    0    1    5    1  1           \n",
       "29  180  85 NaN NaN NaN  93 NaN NaN  NaN  NaN    8  NaN  1           \n",
       "30  187  81  79  74  78  83  72  -2   -7   -3    2   -9  1           \n",
       "<U+22EE>   <U+22EE> <U+22EE> <U+22EE> <U+22EE> <U+22EE> <U+22EE> <U+22EE> <U+22EE> <U+22EE> <U+22EE> <U+22EE> <U+22EE> <U+22EE>    \n",
       "173 156  85 NaN NaN  87  84  91 NaN  NaN    2   -1    6  4           \n",
       "174 158  90  90  93  95  92 NaN   0    3    5    2  NaN  4           \n",
       "175 159  59  71 NaN NaN NaN  78  12  NaN  NaN  NaN   19  4           \n",
       "176 160  86 NaN  88  93  94  93 NaN    2    7    8    7  4           \n",
       "177 166  70  65 NaN NaN NaN NaN  -5  NaN  NaN  NaN  NaN  4           \n",
       "178 183  76  72 NaN NaN NaN NaN  -4  NaN  NaN  NaN  NaN  4           \n",
       "179 186  86  77  75  72  74  77  -9  -11  -14  -12   -9  4           \n",
       "180 192  62  75 NaN NaN NaN NaN  13  NaN  NaN  NaN  NaN  4           \n",
       "181 197  93 NaN  92  96  94  85 NaN   -1    3    1   -8  4           \n",
       "182 202  69 NaN  74 NaN NaN  82 NaN    5  NaN  NaN   13  4           \n",
       "183 204  65  58 NaN NaN NaN NaN  -7  NaN  NaN  NaN  NaN  4           \n",
       "184 215  76  81  89  96  77 NaN   5   13   20    1  NaN  4           \n",
       "185 217  87  67  72  49 NaN  90 -20  -15  -38  NaN    3  4           \n",
       "186 227  73  89  89  97 NaN NaN  16   16   24  NaN  NaN  4           \n",
       "187 229  81  84  79  81 NaN NaN   3   -2    0  NaN  NaN  4           \n",
       "188 237  69  70  75  85  66  73   1    6   16   -3    4  4           \n",
       "189 238 100  90  90  92  92  92 -10  -10   -8   -8   -8  4           \n",
       "190 241  76  81  83  83  90  85   5    7    7   14    9  4           \n",
       "191 242  83  91 NaN NaN NaN NaN   8  NaN  NaN  NaN  NaN  4           \n",
       "192 243  90  99  87  85  82  75   9   -3   -5   -8  -15  4           \n",
       "193 245  77  80  74  78  75  78   3   -3    1   -2    1  4           \n",
       "194 251  70  72  68  72  75  72   2   -2    2    5    2  4           \n",
       "195 255  64 NaN  80  61  69  84 NaN   16   -3    5   20  4           \n",
       "196 259  77  77  78  79  80  87   0    1    2    3   10  4           \n",
       "197 266  66 NaN  81 NaN NaN NaN NaN   15  NaN  NaN  NaN  4           \n",
       "198 267  35 NaN  43  45  55  69 NaN    8   10   20   34  4           \n",
       "199 270  76  77 NaN NaN NaN NaN   1  NaN  NaN  NaN  NaN  4           \n",
       "200 278  58  80  87  84  99  78  22   29   26   41   20  4           \n",
       "201 281  69  76  75  87  89  87   7    6   18   20   18  4           \n",
       "202 292  50  70 NaN NaN NaN NaN  20  NaN  NaN  NaN  NaN  4           "
      ]
     },
     "metadata": {},
     "output_type": "display_data"
    }
   ],
   "source": [
    "#usntack the tall dataframe into a wide dataframe\n",
    "#create columns for difference calculations\n",
    "exp_data_ahi <- subset(exp_data_multionly, select = c(id, occasion, intervention, ahiTotal))\n",
    "cols = c('id', 'ob0', 'ob1', 'ob2', 'ob3', 'ob4', 'ob5')\n",
    "\n",
    "exp_data_ahi_1 <- exp_data_ahi %>% filter(intervention == 1)\n",
    "exp_data_ahi_1$intervention <- NULL\n",
    "exp_data_ahi_1 <- dcast(exp_data_ahi_1, id~occasion, fill = NULL, fun.aggregate = mean, , drop = FALSE)\n",
    "colnames(exp_data_ahi_1) = cols\n",
    "exp_data_ahi_1 <- exp_data_ahi_1 %>% mutate(d1wk = ob1-ob0, \n",
    "                                            d2wk = ob2-ob0, \n",
    "                                            d1mo = ob3-ob0,\n",
    "                                            d3mo = ob4-ob0,\n",
    "                                            d6mo = ob5-ob0,\n",
    "                                            intervention = 1)\n",
    "\n",
    "exp_data_ahi_2 <- exp_data_ahi %>% filter(intervention == 2)\n",
    "exp_data_ahi_2$intervention <- NULL\n",
    "exp_data_ahi_2 <- dcast(exp_data_ahi_2, id~occasion, fill = NULL, fun.aggregate = mean, , drop = FALSE)\n",
    "colnames(exp_data_ahi_2) = cols\n",
    "exp_data_ahi_2 <- exp_data_ahi_2 %>% mutate(d1wk = ob1-ob0, \n",
    "                                            d2wk = ob2-ob0, \n",
    "                                            d1mo = ob3-ob0,\n",
    "                                            d3mo = ob4-ob0,\n",
    "                                            d6mo = ob5-ob0,\n",
    "                                            intervention = 2)\n",
    "\n",
    "exp_data_ahi_3 <- exp_data_ahi %>% filter(intervention == 3)\n",
    "exp_data_ahi_3$intervention <- NULL\n",
    "exp_data_ahi_3 <- dcast(exp_data_ahi_3, id~occasion, fill = NULL, fun.aggregate = mean, , drop = FALSE)\n",
    "colnames(exp_data_ahi_3) = cols\n",
    "exp_data_ahi_3 <- exp_data_ahi_3 %>% mutate(d1wk = ob1-ob0, \n",
    "                                            d2wk = ob2-ob0, \n",
    "                                            d1mo = ob3-ob0,\n",
    "                                            d3mo = ob4-ob0,\n",
    "                                            d6mo = ob5-ob0,\n",
    "                                            intervention = 3)\n",
    "\n",
    "exp_data_ahi_4 <- exp_data_ahi %>% filter(intervention == 4)\n",
    "exp_data_ahi_4$intervention <- NULL\n",
    "exp_data_ahi_4 <- dcast(exp_data_ahi_4, id~occasion, fill = NULL, fun.aggregate = mean, , drop = FALSE)\n",
    "colnames(exp_data_ahi_4) = cols\n",
    "exp_data_ahi_4 <- exp_data_ahi_4 %>% mutate(d1wk = ob1-ob0, \n",
    "                                            d2wk = ob2-ob0, \n",
    "                                            d1mo = ob3-ob0,\n",
    "                                            d3mo = ob4-ob0,\n",
    "                                            d6mo = ob5-ob0,\n",
    "                                            intervention = 4)\n",
    "\n",
    "#row-bind the four dfs into a single df\n",
    "exp_data_ahi_diffs <- rbind(exp_data_ahi_1, exp_data_ahi_2, exp_data_ahi_3, exp_data_ahi_4)\n",
    "exp_data_ahi_diffs"
   ]
  },
  {
   "cell_type": "markdown",
   "metadata": {},
   "source": [
    "Now that the data are melted and in the appropriate format, I'll perform ANOVA to see if the difference between the four interventions is statitstically significant, or if it is more likely just due to random variance inherent to sampling."
   ]
  },
  {
   "cell_type": "code",
   "execution_count": 13,
   "metadata": {},
   "outputs": [],
   "source": [
    "#perform anova for each differnce calculation and store the results\n",
    "ahi_1wk_anova <- aov(d1wk ~ intervention, data = exp_data_ahi_diffs)\n",
    "ahi_2wk_anova <- aov(d2wk ~ intervention, data = exp_data_ahi_diffs)\n",
    "ahi_1mo_anova <- aov(d1mo ~ intervention, data = exp_data_ahi_diffs)\n",
    "ahi_3mo_anova <- aov(d3mo ~ intervention, data = exp_data_ahi_diffs)\n",
    "ahi_6mo_anova <- aov(d6mo ~ intervention, data = exp_data_ahi_diffs)"
   ]
  },
  {
   "cell_type": "code",
   "execution_count": 14,
   "metadata": {},
   "outputs": [
    {
     "data": {
      "text/plain": [
       "              Df Sum Sq Mean Sq F value Pr(>F)\n",
       "intervention   1     10   10.21   0.174  0.677\n",
       "Residuals    145   8513   58.71               \n",
       "55 observations deleted due to missingness"
      ]
     },
     "metadata": {},
     "output_type": "display_data"
    }
   ],
   "source": [
    "summary(ahi_1wk_anova)"
   ]
  },
  {
   "cell_type": "code",
   "execution_count": 15,
   "metadata": {},
   "outputs": [
    {
     "data": {
      "text/plain": [
       "              Df Sum Sq Mean Sq F value Pr(>F)\n",
       "intervention   1      3    2.82   0.046  0.831\n",
       "Residuals    154   9535   61.92               \n",
       "46 observations deleted due to missingness"
      ]
     },
     "metadata": {},
     "output_type": "display_data"
    }
   ],
   "source": [
    "summary(ahi_2wk_anova)"
   ]
  },
  {
   "cell_type": "code",
   "execution_count": 16,
   "metadata": {},
   "outputs": [
    {
     "data": {
      "text/plain": [
       "              Df Sum Sq Mean Sq F value Pr(>F)\n",
       "intervention   1     89   88.86   0.764  0.384\n",
       "Residuals    137  15934  116.31               \n",
       "63 observations deleted due to missingness"
      ]
     },
     "metadata": {},
     "output_type": "display_data"
    }
   ],
   "source": [
    "summary(ahi_1mo_anova)"
   ]
  },
  {
   "cell_type": "code",
   "execution_count": 17,
   "metadata": {},
   "outputs": [
    {
     "data": {
      "text/plain": [
       "              Df Sum Sq Mean Sq F value Pr(>F)\n",
       "intervention   1    161   160.6   1.304  0.256\n",
       "Residuals    131  16129   123.1               \n",
       "69 observations deleted due to missingness"
      ]
     },
     "metadata": {},
     "output_type": "display_data"
    }
   ],
   "source": [
    "summary(ahi_3mo_anova)"
   ]
  },
  {
   "cell_type": "code",
   "execution_count": 18,
   "metadata": {},
   "outputs": [
    {
     "data": {
      "text/plain": [
       "              Df Sum Sq Mean Sq F value Pr(>F)\n",
       "intervention   1     20   19.78   0.157  0.692\n",
       "Residuals    118  14838  125.74               \n",
       "82 observations deleted due to missingness"
      ]
     },
     "metadata": {},
     "output_type": "display_data"
    }
   ],
   "source": [
    "summary(ahi_6mo_anova)"
   ]
  },
  {
   "cell_type": "markdown",
   "metadata": {},
   "source": [
    "None of the interventions appear to be particularly distinct from one another in terms of how they impacted participants' happiness index scores. This appears to be the case for all measurement windows (1 week, 2 weeks, 1 month, 3 months, and 6 months). This, of course, does not mean that the interventions were not efficacious, but rather that they are not distinct enough from one another in terms of impact that the differences can be rules to be due to the differing interventions.\n",
    "\n",
    "The next test will also be an ANOVA test, to determine whether the different interventions had a meaningfully distinct impacts on changes in feelings of depression in participants. \n",
    "\n",
    "### 3.1.1 ANOVA on Changes in CESD Score\n",
    "Next, I'll look at how the CESD scores changed for the four different interventions, at each of the 5 different occasions of measurement."
   ]
  },
  {
   "cell_type": "code",
   "execution_count": 19,
   "metadata": {},
   "outputs": [
    {
     "name": "stderr",
     "output_type": "stream",
     "text": [
      "Using cesdTotal as value column: use value.var to override.\n",
      "\n",
      "Using cesdTotal as value column: use value.var to override.\n",
      "\n",
      "Using cesdTotal as value column: use value.var to override.\n",
      "\n",
      "Using cesdTotal as value column: use value.var to override.\n",
      "\n"
     ]
    },
    {
     "data": {
      "text/html": [
       "<table>\n",
       "<caption>A data.frame: 202 × 13</caption>\n",
       "<thead>\n",
       "\t<tr><th scope=col>id</th><th scope=col>ob0</th><th scope=col>ob1</th><th scope=col>ob2</th><th scope=col>ob3</th><th scope=col>ob4</th><th scope=col>ob5</th><th scope=col>d1wk</th><th scope=col>d2wk</th><th scope=col>d1mo</th><th scope=col>d3mo</th><th scope=col>d6mo</th><th scope=col>intervention</th></tr>\n",
       "\t<tr><th scope=col>&lt;dbl&gt;</th><th scope=col>&lt;dbl&gt;</th><th scope=col>&lt;dbl&gt;</th><th scope=col>&lt;dbl&gt;</th><th scope=col>&lt;dbl&gt;</th><th scope=col>&lt;dbl&gt;</th><th scope=col>&lt;dbl&gt;</th><th scope=col>&lt;dbl&gt;</th><th scope=col>&lt;dbl&gt;</th><th scope=col>&lt;dbl&gt;</th><th scope=col>&lt;dbl&gt;</th><th scope=col>&lt;dbl&gt;</th><th scope=col>&lt;dbl&gt;</th></tr>\n",
       "</thead>\n",
       "<tbody>\n",
       "\t<tr><td>  2</td><td> 7</td><td> 10</td><td> 13</td><td>  8</td><td>15.0</td><td> 12</td><td>  3</td><td>  6</td><td>  1</td><td>  8.0</td><td>  5</td><td>1</td></tr>\n",
       "\t<tr><td>  6</td><td>25</td><td>NaN</td><td> 34</td><td> 23</td><td> NaN</td><td>NaN</td><td>NaN</td><td>  9</td><td> -2</td><td>  NaN</td><td>NaN</td><td>1</td></tr>\n",
       "\t<tr><td> 19</td><td>13</td><td> 16</td><td>NaN</td><td> 15</td><td>15.0</td><td>  7</td><td>  3</td><td>NaN</td><td>  2</td><td>  2.0</td><td> -6</td><td>1</td></tr>\n",
       "\t<tr><td> 28</td><td>13</td><td>  2</td><td>  0</td><td>  0</td><td> 2.0</td><td>  0</td><td>-11</td><td>-13</td><td>-13</td><td>-11.0</td><td>-13</td><td>1</td></tr>\n",
       "\t<tr><td> 31</td><td>12</td><td> 13</td><td>NaN</td><td>NaN</td><td> NaN</td><td>NaN</td><td>  1</td><td>NaN</td><td>NaN</td><td>  NaN</td><td>NaN</td><td>1</td></tr>\n",
       "\t<tr><td> 34</td><td>17</td><td>NaN</td><td> 12</td><td> 36</td><td>21.0</td><td> 17</td><td>NaN</td><td> -5</td><td> 19</td><td>  4.0</td><td>  0</td><td>1</td></tr>\n",
       "\t<tr><td> 36</td><td>17</td><td> 10</td><td> 11</td><td>NaN</td><td> NaN</td><td>NaN</td><td> -7</td><td> -6</td><td>NaN</td><td>  NaN</td><td>NaN</td><td>1</td></tr>\n",
       "\t<tr><td> 53</td><td> 5</td><td>  5</td><td> 10</td><td>NaN</td><td>10.0</td><td>  7</td><td>  0</td><td>  5</td><td>NaN</td><td>  5.0</td><td>  2</td><td>1</td></tr>\n",
       "\t<tr><td> 64</td><td>27</td><td> 22</td><td> 20</td><td>NaN</td><td>17.5</td><td> 19</td><td> -5</td><td> -7</td><td>NaN</td><td> -9.5</td><td> -8</td><td>1</td></tr>\n",
       "\t<tr><td> 67</td><td>12</td><td> 13</td><td> 10</td><td>  7</td><td> 5.0</td><td>NaN</td><td>  1</td><td> -2</td><td> -5</td><td> -7.0</td><td>NaN</td><td>1</td></tr>\n",
       "\t<tr><td> 76</td><td>21</td><td>NaN</td><td> 22</td><td> 21</td><td> 5.0</td><td>  3</td><td>NaN</td><td>  1</td><td>  0</td><td>-16.0</td><td>-18</td><td>1</td></tr>\n",
       "\t<tr><td> 77</td><td>15</td><td>  4</td><td> 12</td><td> 14</td><td>30.0</td><td>NaN</td><td>-11</td><td> -3</td><td> -1</td><td> 15.0</td><td>NaN</td><td>1</td></tr>\n",
       "\t<tr><td> 81</td><td> 9</td><td>NaN</td><td> 12</td><td>NaN</td><td> NaN</td><td>NaN</td><td>NaN</td><td>  3</td><td>NaN</td><td>  NaN</td><td>NaN</td><td>1</td></tr>\n",
       "\t<tr><td> 96</td><td>15</td><td>NaN</td><td> 12</td><td>NaN</td><td> NaN</td><td>NaN</td><td>NaN</td><td> -3</td><td>NaN</td><td>  NaN</td><td>NaN</td><td>1</td></tr>\n",
       "\t<tr><td>100</td><td> 4</td><td>  4</td><td>NaN</td><td>NaN</td><td> NaN</td><td>NaN</td><td>  0</td><td>NaN</td><td>NaN</td><td>  NaN</td><td>NaN</td><td>1</td></tr>\n",
       "\t<tr><td>107</td><td> 1</td><td>NaN</td><td>  0</td><td>NaN</td><td> 0.0</td><td>NaN</td><td>NaN</td><td> -1</td><td>NaN</td><td> -1.0</td><td>NaN</td><td>1</td></tr>\n",
       "\t<tr><td>113</td><td>48</td><td> 47</td><td> 50</td><td>NaN</td><td>29.0</td><td> 48</td><td> -1</td><td>  2</td><td>NaN</td><td>-19.0</td><td>  0</td><td>1</td></tr>\n",
       "\t<tr><td>114</td><td> 1</td><td>  3</td><td>  0</td><td>  2</td><td> 1.0</td><td>  7</td><td>  2</td><td> -1</td><td>  1</td><td>  0.0</td><td>  6</td><td>1</td></tr>\n",
       "\t<tr><td>115</td><td>11</td><td>NaN</td><td>NaN</td><td>NaN</td><td> 6.0</td><td>NaN</td><td>NaN</td><td>NaN</td><td>NaN</td><td> -5.0</td><td>NaN</td><td>1</td></tr>\n",
       "\t<tr><td>122</td><td> 6</td><td>NaN</td><td>  0</td><td>  3</td><td>13.0</td><td> 15</td><td>NaN</td><td> -6</td><td> -3</td><td>  7.0</td><td>  9</td><td>1</td></tr>\n",
       "\t<tr><td>127</td><td> 6</td><td>  0</td><td>  2</td><td>  5</td><td> 2.0</td><td>  1</td><td> -6</td><td> -4</td><td> -1</td><td> -4.0</td><td> -5</td><td>1</td></tr>\n",
       "\t<tr><td>134</td><td>10</td><td>  6</td><td>  3</td><td>  4</td><td> 5.0</td><td>  4</td><td> -4</td><td> -7</td><td> -6</td><td> -5.0</td><td> -6</td><td>1</td></tr>\n",
       "\t<tr><td>138</td><td>22</td><td>NaN</td><td>  5</td><td>  3</td><td>13.0</td><td>NaN</td><td>NaN</td><td>-17</td><td>-19</td><td> -9.0</td><td>NaN</td><td>1</td></tr>\n",
       "\t<tr><td>144</td><td>18</td><td>  8</td><td>  5</td><td>  6</td><td> 3.0</td><td>NaN</td><td>-10</td><td>-13</td><td>-12</td><td>-15.0</td><td>NaN</td><td>1</td></tr>\n",
       "\t<tr><td>169</td><td>36</td><td> 39</td><td> 38</td><td> 48</td><td>33.0</td><td> 24</td><td>  3</td><td>  2</td><td> 12</td><td> -3.0</td><td>-12</td><td>1</td></tr>\n",
       "\t<tr><td>175</td><td>24</td><td> 33</td><td>NaN</td><td>NaN</td><td>21.0</td><td>NaN</td><td>  9</td><td>NaN</td><td>NaN</td><td> -3.0</td><td>NaN</td><td>1</td></tr>\n",
       "\t<tr><td>177</td><td>33</td><td> 43</td><td> 32</td><td> 19</td><td>15.0</td><td> 14</td><td> 10</td><td> -1</td><td>-14</td><td>-18.0</td><td>-19</td><td>1</td></tr>\n",
       "\t<tr><td>178</td><td> 5</td><td>  5</td><td>  4</td><td>  0</td><td> 5.0</td><td>  1</td><td>  0</td><td> -1</td><td> -5</td><td>  0.0</td><td> -4</td><td>1</td></tr>\n",
       "\t<tr><td>180</td><td> 2</td><td>NaN</td><td>NaN</td><td>NaN</td><td> 1.0</td><td>NaN</td><td>NaN</td><td>NaN</td><td>NaN</td><td> -1.0</td><td>NaN</td><td>1</td></tr>\n",
       "\t<tr><td>187</td><td> 1</td><td>  0</td><td>  0</td><td>  0</td><td> 1.0</td><td>  1</td><td> -1</td><td> -1</td><td> -1</td><td>  0.0</td><td>  0</td><td>1</td></tr>\n",
       "\t<tr><td>⋮</td><td>⋮</td><td>⋮</td><td>⋮</td><td>⋮</td><td>⋮</td><td>⋮</td><td>⋮</td><td>⋮</td><td>⋮</td><td>⋮</td><td>⋮</td><td>⋮</td></tr>\n",
       "\t<tr><td>156</td><td> 0</td><td>NaN</td><td>NaN</td><td>  1</td><td>  4</td><td>  0</td><td>NaN</td><td>NaN</td><td>  1</td><td>  4</td><td>  0</td><td>4</td></tr>\n",
       "\t<tr><td>158</td><td> 3</td><td>  3</td><td>  3</td><td>  1</td><td>  5</td><td>NaN</td><td>  0</td><td>  0</td><td> -2</td><td>  2</td><td>NaN</td><td>4</td></tr>\n",
       "\t<tr><td>159</td><td>27</td><td> 12</td><td>NaN</td><td>NaN</td><td>NaN</td><td> 13</td><td>-15</td><td>NaN</td><td>NaN</td><td>NaN</td><td>-14</td><td>4</td></tr>\n",
       "\t<tr><td>160</td><td>11</td><td>NaN</td><td>  6</td><td>  3</td><td>  0</td><td>  4</td><td>NaN</td><td> -5</td><td> -8</td><td>-11</td><td> -7</td><td>4</td></tr>\n",
       "\t<tr><td>166</td><td>15</td><td> 21</td><td>NaN</td><td>NaN</td><td>NaN</td><td>NaN</td><td>  6</td><td>NaN</td><td>NaN</td><td>NaN</td><td>NaN</td><td>4</td></tr>\n",
       "\t<tr><td>183</td><td>14</td><td> 19</td><td>NaN</td><td>NaN</td><td>NaN</td><td>NaN</td><td>  5</td><td>NaN</td><td>NaN</td><td>NaN</td><td>NaN</td><td>4</td></tr>\n",
       "\t<tr><td>186</td><td>10</td><td>  4</td><td> 26</td><td> 13</td><td>  4</td><td>  4</td><td> -6</td><td> 16</td><td>  3</td><td> -6</td><td> -6</td><td>4</td></tr>\n",
       "\t<tr><td>192</td><td>30</td><td>  6</td><td>NaN</td><td>NaN</td><td>NaN</td><td>NaN</td><td>-24</td><td>NaN</td><td>NaN</td><td>NaN</td><td>NaN</td><td>4</td></tr>\n",
       "\t<tr><td>197</td><td>11</td><td>NaN</td><td> 11</td><td>  6</td><td>  3</td><td> 13</td><td>NaN</td><td>  0</td><td> -5</td><td> -8</td><td>  2</td><td>4</td></tr>\n",
       "\t<tr><td>202</td><td>17</td><td>NaN</td><td> 13</td><td>NaN</td><td>NaN</td><td>  3</td><td>NaN</td><td> -4</td><td>NaN</td><td>NaN</td><td>-14</td><td>4</td></tr>\n",
       "\t<tr><td>204</td><td>14</td><td> 16</td><td>NaN</td><td>NaN</td><td>NaN</td><td>NaN</td><td>  2</td><td>NaN</td><td>NaN</td><td>NaN</td><td>NaN</td><td>4</td></tr>\n",
       "\t<tr><td>215</td><td> 1</td><td> 11</td><td>  1</td><td>  1</td><td>  4</td><td>NaN</td><td> 10</td><td>  0</td><td>  0</td><td>  3</td><td>NaN</td><td>4</td></tr>\n",
       "\t<tr><td>217</td><td>10</td><td> 23</td><td> 20</td><td> 45</td><td>NaN</td><td>  5</td><td> 13</td><td> 10</td><td> 35</td><td>NaN</td><td> -5</td><td>4</td></tr>\n",
       "\t<tr><td>227</td><td> 4</td><td>  7</td><td>  2</td><td>  5</td><td>NaN</td><td>NaN</td><td>  3</td><td> -2</td><td>  1</td><td>NaN</td><td>NaN</td><td>4</td></tr>\n",
       "\t<tr><td>229</td><td> 0</td><td>  4</td><td>  1</td><td>  1</td><td>NaN</td><td>NaN</td><td>  4</td><td>  1</td><td>  1</td><td>NaN</td><td>NaN</td><td>4</td></tr>\n",
       "\t<tr><td>237</td><td> 9</td><td>  9</td><td>  2</td><td>  0</td><td> 10</td><td>  1</td><td>  0</td><td> -7</td><td> -9</td><td>  1</td><td> -8</td><td>4</td></tr>\n",
       "\t<tr><td>238</td><td> 4</td><td>  5</td><td>  6</td><td>  0</td><td>  8</td><td>  1</td><td>  1</td><td>  2</td><td> -4</td><td>  4</td><td> -3</td><td>4</td></tr>\n",
       "\t<tr><td>241</td><td>11</td><td>  6</td><td>  4</td><td>  6</td><td>  4</td><td>  7</td><td> -5</td><td> -7</td><td> -5</td><td> -7</td><td> -4</td><td>4</td></tr>\n",
       "\t<tr><td>242</td><td> 7</td><td>  5</td><td>NaN</td><td>NaN</td><td>NaN</td><td>NaN</td><td> -2</td><td>NaN</td><td>NaN</td><td>NaN</td><td>NaN</td><td>4</td></tr>\n",
       "\t<tr><td>243</td><td>19</td><td>  4</td><td> 11</td><td>  7</td><td> 14</td><td> 23</td><td>-15</td><td> -8</td><td>-12</td><td> -5</td><td>  4</td><td>4</td></tr>\n",
       "\t<tr><td>245</td><td> 0</td><td>  4</td><td>  0</td><td>  1</td><td>  8</td><td>  0</td><td>  4</td><td>  0</td><td>  1</td><td>  8</td><td>  0</td><td>4</td></tr>\n",
       "\t<tr><td>251</td><td>11</td><td>  9</td><td> 25</td><td> 12</td><td>  8</td><td>  8</td><td> -2</td><td> 14</td><td>  1</td><td> -3</td><td> -3</td><td>4</td></tr>\n",
       "\t<tr><td>255</td><td> 9</td><td>NaN</td><td>  9</td><td> 18</td><td> 14</td><td> 11</td><td>NaN</td><td>  0</td><td>  9</td><td>  5</td><td>  2</td><td>4</td></tr>\n",
       "\t<tr><td>259</td><td> 6</td><td>  3</td><td>  2</td><td>  3</td><td>  4</td><td>  3</td><td> -3</td><td> -4</td><td> -3</td><td> -2</td><td> -3</td><td>4</td></tr>\n",
       "\t<tr><td>266</td><td>10</td><td>NaN</td><td>  7</td><td>NaN</td><td>NaN</td><td>NaN</td><td>NaN</td><td> -3</td><td>NaN</td><td>NaN</td><td>NaN</td><td>4</td></tr>\n",
       "\t<tr><td>267</td><td>41</td><td>NaN</td><td> 36</td><td> 29</td><td> 17</td><td> 14</td><td>NaN</td><td> -5</td><td>-12</td><td>-24</td><td>-27</td><td>4</td></tr>\n",
       "\t<tr><td>270</td><td>10</td><td>  8</td><td>NaN</td><td>NaN</td><td>NaN</td><td>NaN</td><td> -2</td><td>NaN</td><td>NaN</td><td>NaN</td><td>NaN</td><td>4</td></tr>\n",
       "\t<tr><td>278</td><td>17</td><td>  1</td><td>  1</td><td> 14</td><td>  0</td><td> 34</td><td>-16</td><td>-16</td><td> -3</td><td>-17</td><td> 17</td><td>4</td></tr>\n",
       "\t<tr><td>281</td><td> 4</td><td>  1</td><td>  1</td><td>  1</td><td>  0</td><td>  1</td><td> -3</td><td> -3</td><td> -3</td><td> -4</td><td> -3</td><td>4</td></tr>\n",
       "\t<tr><td>292</td><td>30</td><td>  6</td><td>NaN</td><td>NaN</td><td>NaN</td><td>NaN</td><td>-24</td><td>NaN</td><td>NaN</td><td>NaN</td><td>NaN</td><td>4</td></tr>\n",
       "</tbody>\n",
       "</table>\n"
      ],
      "text/latex": [
       "A data.frame: 202 × 13\n",
       "\\begin{tabular}{lllllllllllll}\n",
       " id & ob0 & ob1 & ob2 & ob3 & ob4 & ob5 & d1wk & d2wk & d1mo & d3mo & d6mo & intervention\\\\\n",
       " <dbl> & <dbl> & <dbl> & <dbl> & <dbl> & <dbl> & <dbl> & <dbl> & <dbl> & <dbl> & <dbl> & <dbl> & <dbl>\\\\\n",
       "\\hline\n",
       "\t   2 &  7 &  10 &  13 &   8 & 15.0 &  12 &   3 &   6 &   1 &   8.0 &   5 & 1\\\\\n",
       "\t   6 & 25 & NaN &  34 &  23 &  NaN & NaN & NaN &   9 &  -2 &   NaN & NaN & 1\\\\\n",
       "\t  19 & 13 &  16 & NaN &  15 & 15.0 &   7 &   3 & NaN &   2 &   2.0 &  -6 & 1\\\\\n",
       "\t  28 & 13 &   2 &   0 &   0 &  2.0 &   0 & -11 & -13 & -13 & -11.0 & -13 & 1\\\\\n",
       "\t  31 & 12 &  13 & NaN & NaN &  NaN & NaN &   1 & NaN & NaN &   NaN & NaN & 1\\\\\n",
       "\t  34 & 17 & NaN &  12 &  36 & 21.0 &  17 & NaN &  -5 &  19 &   4.0 &   0 & 1\\\\\n",
       "\t  36 & 17 &  10 &  11 & NaN &  NaN & NaN &  -7 &  -6 & NaN &   NaN & NaN & 1\\\\\n",
       "\t  53 &  5 &   5 &  10 & NaN & 10.0 &   7 &   0 &   5 & NaN &   5.0 &   2 & 1\\\\\n",
       "\t  64 & 27 &  22 &  20 & NaN & 17.5 &  19 &  -5 &  -7 & NaN &  -9.5 &  -8 & 1\\\\\n",
       "\t  67 & 12 &  13 &  10 &   7 &  5.0 & NaN &   1 &  -2 &  -5 &  -7.0 & NaN & 1\\\\\n",
       "\t  76 & 21 & NaN &  22 &  21 &  5.0 &   3 & NaN &   1 &   0 & -16.0 & -18 & 1\\\\\n",
       "\t  77 & 15 &   4 &  12 &  14 & 30.0 & NaN & -11 &  -3 &  -1 &  15.0 & NaN & 1\\\\\n",
       "\t  81 &  9 & NaN &  12 & NaN &  NaN & NaN & NaN &   3 & NaN &   NaN & NaN & 1\\\\\n",
       "\t  96 & 15 & NaN &  12 & NaN &  NaN & NaN & NaN &  -3 & NaN &   NaN & NaN & 1\\\\\n",
       "\t 100 &  4 &   4 & NaN & NaN &  NaN & NaN &   0 & NaN & NaN &   NaN & NaN & 1\\\\\n",
       "\t 107 &  1 & NaN &   0 & NaN &  0.0 & NaN & NaN &  -1 & NaN &  -1.0 & NaN & 1\\\\\n",
       "\t 113 & 48 &  47 &  50 & NaN & 29.0 &  48 &  -1 &   2 & NaN & -19.0 &   0 & 1\\\\\n",
       "\t 114 &  1 &   3 &   0 &   2 &  1.0 &   7 &   2 &  -1 &   1 &   0.0 &   6 & 1\\\\\n",
       "\t 115 & 11 & NaN & NaN & NaN &  6.0 & NaN & NaN & NaN & NaN &  -5.0 & NaN & 1\\\\\n",
       "\t 122 &  6 & NaN &   0 &   3 & 13.0 &  15 & NaN &  -6 &  -3 &   7.0 &   9 & 1\\\\\n",
       "\t 127 &  6 &   0 &   2 &   5 &  2.0 &   1 &  -6 &  -4 &  -1 &  -4.0 &  -5 & 1\\\\\n",
       "\t 134 & 10 &   6 &   3 &   4 &  5.0 &   4 &  -4 &  -7 &  -6 &  -5.0 &  -6 & 1\\\\\n",
       "\t 138 & 22 & NaN &   5 &   3 & 13.0 & NaN & NaN & -17 & -19 &  -9.0 & NaN & 1\\\\\n",
       "\t 144 & 18 &   8 &   5 &   6 &  3.0 & NaN & -10 & -13 & -12 & -15.0 & NaN & 1\\\\\n",
       "\t 169 & 36 &  39 &  38 &  48 & 33.0 &  24 &   3 &   2 &  12 &  -3.0 & -12 & 1\\\\\n",
       "\t 175 & 24 &  33 & NaN & NaN & 21.0 & NaN &   9 & NaN & NaN &  -3.0 & NaN & 1\\\\\n",
       "\t 177 & 33 &  43 &  32 &  19 & 15.0 &  14 &  10 &  -1 & -14 & -18.0 & -19 & 1\\\\\n",
       "\t 178 &  5 &   5 &   4 &   0 &  5.0 &   1 &   0 &  -1 &  -5 &   0.0 &  -4 & 1\\\\\n",
       "\t 180 &  2 & NaN & NaN & NaN &  1.0 & NaN & NaN & NaN & NaN &  -1.0 & NaN & 1\\\\\n",
       "\t 187 &  1 &   0 &   0 &   0 &  1.0 &   1 &  -1 &  -1 &  -1 &   0.0 &   0 & 1\\\\\n",
       "\t ⋮ & ⋮ & ⋮ & ⋮ & ⋮ & ⋮ & ⋮ & ⋮ & ⋮ & ⋮ & ⋮ & ⋮ & ⋮\\\\\n",
       "\t 156 &  0 & NaN & NaN &   1 &   4 &   0 & NaN & NaN &   1 &   4 &   0 & 4\\\\\n",
       "\t 158 &  3 &   3 &   3 &   1 &   5 & NaN &   0 &   0 &  -2 &   2 & NaN & 4\\\\\n",
       "\t 159 & 27 &  12 & NaN & NaN & NaN &  13 & -15 & NaN & NaN & NaN & -14 & 4\\\\\n",
       "\t 160 & 11 & NaN &   6 &   3 &   0 &   4 & NaN &  -5 &  -8 & -11 &  -7 & 4\\\\\n",
       "\t 166 & 15 &  21 & NaN & NaN & NaN & NaN &   6 & NaN & NaN & NaN & NaN & 4\\\\\n",
       "\t 183 & 14 &  19 & NaN & NaN & NaN & NaN &   5 & NaN & NaN & NaN & NaN & 4\\\\\n",
       "\t 186 & 10 &   4 &  26 &  13 &   4 &   4 &  -6 &  16 &   3 &  -6 &  -6 & 4\\\\\n",
       "\t 192 & 30 &   6 & NaN & NaN & NaN & NaN & -24 & NaN & NaN & NaN & NaN & 4\\\\\n",
       "\t 197 & 11 & NaN &  11 &   6 &   3 &  13 & NaN &   0 &  -5 &  -8 &   2 & 4\\\\\n",
       "\t 202 & 17 & NaN &  13 & NaN & NaN &   3 & NaN &  -4 & NaN & NaN & -14 & 4\\\\\n",
       "\t 204 & 14 &  16 & NaN & NaN & NaN & NaN &   2 & NaN & NaN & NaN & NaN & 4\\\\\n",
       "\t 215 &  1 &  11 &   1 &   1 &   4 & NaN &  10 &   0 &   0 &   3 & NaN & 4\\\\\n",
       "\t 217 & 10 &  23 &  20 &  45 & NaN &   5 &  13 &  10 &  35 & NaN &  -5 & 4\\\\\n",
       "\t 227 &  4 &   7 &   2 &   5 & NaN & NaN &   3 &  -2 &   1 & NaN & NaN & 4\\\\\n",
       "\t 229 &  0 &   4 &   1 &   1 & NaN & NaN &   4 &   1 &   1 & NaN & NaN & 4\\\\\n",
       "\t 237 &  9 &   9 &   2 &   0 &  10 &   1 &   0 &  -7 &  -9 &   1 &  -8 & 4\\\\\n",
       "\t 238 &  4 &   5 &   6 &   0 &   8 &   1 &   1 &   2 &  -4 &   4 &  -3 & 4\\\\\n",
       "\t 241 & 11 &   6 &   4 &   6 &   4 &   7 &  -5 &  -7 &  -5 &  -7 &  -4 & 4\\\\\n",
       "\t 242 &  7 &   5 & NaN & NaN & NaN & NaN &  -2 & NaN & NaN & NaN & NaN & 4\\\\\n",
       "\t 243 & 19 &   4 &  11 &   7 &  14 &  23 & -15 &  -8 & -12 &  -5 &   4 & 4\\\\\n",
       "\t 245 &  0 &   4 &   0 &   1 &   8 &   0 &   4 &   0 &   1 &   8 &   0 & 4\\\\\n",
       "\t 251 & 11 &   9 &  25 &  12 &   8 &   8 &  -2 &  14 &   1 &  -3 &  -3 & 4\\\\\n",
       "\t 255 &  9 & NaN &   9 &  18 &  14 &  11 & NaN &   0 &   9 &   5 &   2 & 4\\\\\n",
       "\t 259 &  6 &   3 &   2 &   3 &   4 &   3 &  -3 &  -4 &  -3 &  -2 &  -3 & 4\\\\\n",
       "\t 266 & 10 & NaN &   7 & NaN & NaN & NaN & NaN &  -3 & NaN & NaN & NaN & 4\\\\\n",
       "\t 267 & 41 & NaN &  36 &  29 &  17 &  14 & NaN &  -5 & -12 & -24 & -27 & 4\\\\\n",
       "\t 270 & 10 &   8 & NaN & NaN & NaN & NaN &  -2 & NaN & NaN & NaN & NaN & 4\\\\\n",
       "\t 278 & 17 &   1 &   1 &  14 &   0 &  34 & -16 & -16 &  -3 & -17 &  17 & 4\\\\\n",
       "\t 281 &  4 &   1 &   1 &   1 &   0 &   1 &  -3 &  -3 &  -3 &  -4 &  -3 & 4\\\\\n",
       "\t 292 & 30 &   6 & NaN & NaN & NaN & NaN & -24 & NaN & NaN & NaN & NaN & 4\\\\\n",
       "\\end{tabular}\n"
      ],
      "text/markdown": [
       "\n",
       "A data.frame: 202 × 13\n",
       "\n",
       "| id &lt;dbl&gt; | ob0 &lt;dbl&gt; | ob1 &lt;dbl&gt; | ob2 &lt;dbl&gt; | ob3 &lt;dbl&gt; | ob4 &lt;dbl&gt; | ob5 &lt;dbl&gt; | d1wk &lt;dbl&gt; | d2wk &lt;dbl&gt; | d1mo &lt;dbl&gt; | d3mo &lt;dbl&gt; | d6mo &lt;dbl&gt; | intervention &lt;dbl&gt; |\n",
       "|---|---|---|---|---|---|---|---|---|---|---|---|---|\n",
       "|   2 |  7 |  10 |  13 |   8 | 15.0 |  12 |   3 |   6 |   1 |   8.0 |   5 | 1 |\n",
       "|   6 | 25 | NaN |  34 |  23 |  NaN | NaN | NaN |   9 |  -2 |   NaN | NaN | 1 |\n",
       "|  19 | 13 |  16 | NaN |  15 | 15.0 |   7 |   3 | NaN |   2 |   2.0 |  -6 | 1 |\n",
       "|  28 | 13 |   2 |   0 |   0 |  2.0 |   0 | -11 | -13 | -13 | -11.0 | -13 | 1 |\n",
       "|  31 | 12 |  13 | NaN | NaN |  NaN | NaN |   1 | NaN | NaN |   NaN | NaN | 1 |\n",
       "|  34 | 17 | NaN |  12 |  36 | 21.0 |  17 | NaN |  -5 |  19 |   4.0 |   0 | 1 |\n",
       "|  36 | 17 |  10 |  11 | NaN |  NaN | NaN |  -7 |  -6 | NaN |   NaN | NaN | 1 |\n",
       "|  53 |  5 |   5 |  10 | NaN | 10.0 |   7 |   0 |   5 | NaN |   5.0 |   2 | 1 |\n",
       "|  64 | 27 |  22 |  20 | NaN | 17.5 |  19 |  -5 |  -7 | NaN |  -9.5 |  -8 | 1 |\n",
       "|  67 | 12 |  13 |  10 |   7 |  5.0 | NaN |   1 |  -2 |  -5 |  -7.0 | NaN | 1 |\n",
       "|  76 | 21 | NaN |  22 |  21 |  5.0 |   3 | NaN |   1 |   0 | -16.0 | -18 | 1 |\n",
       "|  77 | 15 |   4 |  12 |  14 | 30.0 | NaN | -11 |  -3 |  -1 |  15.0 | NaN | 1 |\n",
       "|  81 |  9 | NaN |  12 | NaN |  NaN | NaN | NaN |   3 | NaN |   NaN | NaN | 1 |\n",
       "|  96 | 15 | NaN |  12 | NaN |  NaN | NaN | NaN |  -3 | NaN |   NaN | NaN | 1 |\n",
       "| 100 |  4 |   4 | NaN | NaN |  NaN | NaN |   0 | NaN | NaN |   NaN | NaN | 1 |\n",
       "| 107 |  1 | NaN |   0 | NaN |  0.0 | NaN | NaN |  -1 | NaN |  -1.0 | NaN | 1 |\n",
       "| 113 | 48 |  47 |  50 | NaN | 29.0 |  48 |  -1 |   2 | NaN | -19.0 |   0 | 1 |\n",
       "| 114 |  1 |   3 |   0 |   2 |  1.0 |   7 |   2 |  -1 |   1 |   0.0 |   6 | 1 |\n",
       "| 115 | 11 | NaN | NaN | NaN |  6.0 | NaN | NaN | NaN | NaN |  -5.0 | NaN | 1 |\n",
       "| 122 |  6 | NaN |   0 |   3 | 13.0 |  15 | NaN |  -6 |  -3 |   7.0 |   9 | 1 |\n",
       "| 127 |  6 |   0 |   2 |   5 |  2.0 |   1 |  -6 |  -4 |  -1 |  -4.0 |  -5 | 1 |\n",
       "| 134 | 10 |   6 |   3 |   4 |  5.0 |   4 |  -4 |  -7 |  -6 |  -5.0 |  -6 | 1 |\n",
       "| 138 | 22 | NaN |   5 |   3 | 13.0 | NaN | NaN | -17 | -19 |  -9.0 | NaN | 1 |\n",
       "| 144 | 18 |   8 |   5 |   6 |  3.0 | NaN | -10 | -13 | -12 | -15.0 | NaN | 1 |\n",
       "| 169 | 36 |  39 |  38 |  48 | 33.0 |  24 |   3 |   2 |  12 |  -3.0 | -12 | 1 |\n",
       "| 175 | 24 |  33 | NaN | NaN | 21.0 | NaN |   9 | NaN | NaN |  -3.0 | NaN | 1 |\n",
       "| 177 | 33 |  43 |  32 |  19 | 15.0 |  14 |  10 |  -1 | -14 | -18.0 | -19 | 1 |\n",
       "| 178 |  5 |   5 |   4 |   0 |  5.0 |   1 |   0 |  -1 |  -5 |   0.0 |  -4 | 1 |\n",
       "| 180 |  2 | NaN | NaN | NaN |  1.0 | NaN | NaN | NaN | NaN |  -1.0 | NaN | 1 |\n",
       "| 187 |  1 |   0 |   0 |   0 |  1.0 |   1 |  -1 |  -1 |  -1 |   0.0 |   0 | 1 |\n",
       "| ⋮ | ⋮ | ⋮ | ⋮ | ⋮ | ⋮ | ⋮ | ⋮ | ⋮ | ⋮ | ⋮ | ⋮ | ⋮ |\n",
       "| 156 |  0 | NaN | NaN |   1 |   4 |   0 | NaN | NaN |   1 |   4 |   0 | 4 |\n",
       "| 158 |  3 |   3 |   3 |   1 |   5 | NaN |   0 |   0 |  -2 |   2 | NaN | 4 |\n",
       "| 159 | 27 |  12 | NaN | NaN | NaN |  13 | -15 | NaN | NaN | NaN | -14 | 4 |\n",
       "| 160 | 11 | NaN |   6 |   3 |   0 |   4 | NaN |  -5 |  -8 | -11 |  -7 | 4 |\n",
       "| 166 | 15 |  21 | NaN | NaN | NaN | NaN |   6 | NaN | NaN | NaN | NaN | 4 |\n",
       "| 183 | 14 |  19 | NaN | NaN | NaN | NaN |   5 | NaN | NaN | NaN | NaN | 4 |\n",
       "| 186 | 10 |   4 |  26 |  13 |   4 |   4 |  -6 |  16 |   3 |  -6 |  -6 | 4 |\n",
       "| 192 | 30 |   6 | NaN | NaN | NaN | NaN | -24 | NaN | NaN | NaN | NaN | 4 |\n",
       "| 197 | 11 | NaN |  11 |   6 |   3 |  13 | NaN |   0 |  -5 |  -8 |   2 | 4 |\n",
       "| 202 | 17 | NaN |  13 | NaN | NaN |   3 | NaN |  -4 | NaN | NaN | -14 | 4 |\n",
       "| 204 | 14 |  16 | NaN | NaN | NaN | NaN |   2 | NaN | NaN | NaN | NaN | 4 |\n",
       "| 215 |  1 |  11 |   1 |   1 |   4 | NaN |  10 |   0 |   0 |   3 | NaN | 4 |\n",
       "| 217 | 10 |  23 |  20 |  45 | NaN |   5 |  13 |  10 |  35 | NaN |  -5 | 4 |\n",
       "| 227 |  4 |   7 |   2 |   5 | NaN | NaN |   3 |  -2 |   1 | NaN | NaN | 4 |\n",
       "| 229 |  0 |   4 |   1 |   1 | NaN | NaN |   4 |   1 |   1 | NaN | NaN | 4 |\n",
       "| 237 |  9 |   9 |   2 |   0 |  10 |   1 |   0 |  -7 |  -9 |   1 |  -8 | 4 |\n",
       "| 238 |  4 |   5 |   6 |   0 |   8 |   1 |   1 |   2 |  -4 |   4 |  -3 | 4 |\n",
       "| 241 | 11 |   6 |   4 |   6 |   4 |   7 |  -5 |  -7 |  -5 |  -7 |  -4 | 4 |\n",
       "| 242 |  7 |   5 | NaN | NaN | NaN | NaN |  -2 | NaN | NaN | NaN | NaN | 4 |\n",
       "| 243 | 19 |   4 |  11 |   7 |  14 |  23 | -15 |  -8 | -12 |  -5 |   4 | 4 |\n",
       "| 245 |  0 |   4 |   0 |   1 |   8 |   0 |   4 |   0 |   1 |   8 |   0 | 4 |\n",
       "| 251 | 11 |   9 |  25 |  12 |   8 |   8 |  -2 |  14 |   1 |  -3 |  -3 | 4 |\n",
       "| 255 |  9 | NaN |   9 |  18 |  14 |  11 | NaN |   0 |   9 |   5 |   2 | 4 |\n",
       "| 259 |  6 |   3 |   2 |   3 |   4 |   3 |  -3 |  -4 |  -3 |  -2 |  -3 | 4 |\n",
       "| 266 | 10 | NaN |   7 | NaN | NaN | NaN | NaN |  -3 | NaN | NaN | NaN | 4 |\n",
       "| 267 | 41 | NaN |  36 |  29 |  17 |  14 | NaN |  -5 | -12 | -24 | -27 | 4 |\n",
       "| 270 | 10 |   8 | NaN | NaN | NaN | NaN |  -2 | NaN | NaN | NaN | NaN | 4 |\n",
       "| 278 | 17 |   1 |   1 |  14 |   0 |  34 | -16 | -16 |  -3 | -17 |  17 | 4 |\n",
       "| 281 |  4 |   1 |   1 |   1 |   0 |   1 |  -3 |  -3 |  -3 |  -4 |  -3 | 4 |\n",
       "| 292 | 30 |   6 | NaN | NaN | NaN | NaN | -24 | NaN | NaN | NaN | NaN | 4 |\n",
       "\n"
      ],
      "text/plain": [
       "    id  ob0 ob1 ob2 ob3 ob4  ob5 d1wk d2wk d1mo d3mo  d6mo intervention\n",
       "1     2  7   10  13   8 15.0  12   3    6    1    8.0   5  1           \n",
       "2     6 25  NaN  34  23  NaN NaN NaN    9   -2    NaN NaN  1           \n",
       "3    19 13   16 NaN  15 15.0   7   3  NaN    2    2.0  -6  1           \n",
       "4    28 13    2   0   0  2.0   0 -11  -13  -13  -11.0 -13  1           \n",
       "5    31 12   13 NaN NaN  NaN NaN   1  NaN  NaN    NaN NaN  1           \n",
       "6    34 17  NaN  12  36 21.0  17 NaN   -5   19    4.0   0  1           \n",
       "7    36 17   10  11 NaN  NaN NaN  -7   -6  NaN    NaN NaN  1           \n",
       "8    53  5    5  10 NaN 10.0   7   0    5  NaN    5.0   2  1           \n",
       "9    64 27   22  20 NaN 17.5  19  -5   -7  NaN   -9.5  -8  1           \n",
       "10   67 12   13  10   7  5.0 NaN   1   -2   -5   -7.0 NaN  1           \n",
       "11   76 21  NaN  22  21  5.0   3 NaN    1    0  -16.0 -18  1           \n",
       "12   77 15    4  12  14 30.0 NaN -11   -3   -1   15.0 NaN  1           \n",
       "13   81  9  NaN  12 NaN  NaN NaN NaN    3  NaN    NaN NaN  1           \n",
       "14   96 15  NaN  12 NaN  NaN NaN NaN   -3  NaN    NaN NaN  1           \n",
       "15  100  4    4 NaN NaN  NaN NaN   0  NaN  NaN    NaN NaN  1           \n",
       "16  107  1  NaN   0 NaN  0.0 NaN NaN   -1  NaN   -1.0 NaN  1           \n",
       "17  113 48   47  50 NaN 29.0  48  -1    2  NaN  -19.0   0  1           \n",
       "18  114  1    3   0   2  1.0   7   2   -1    1    0.0   6  1           \n",
       "19  115 11  NaN NaN NaN  6.0 NaN NaN  NaN  NaN   -5.0 NaN  1           \n",
       "20  122  6  NaN   0   3 13.0  15 NaN   -6   -3    7.0   9  1           \n",
       "21  127  6    0   2   5  2.0   1  -6   -4   -1   -4.0  -5  1           \n",
       "22  134 10    6   3   4  5.0   4  -4   -7   -6   -5.0  -6  1           \n",
       "23  138 22  NaN   5   3 13.0 NaN NaN  -17  -19   -9.0 NaN  1           \n",
       "24  144 18    8   5   6  3.0 NaN -10  -13  -12  -15.0 NaN  1           \n",
       "25  169 36   39  38  48 33.0  24   3    2   12   -3.0 -12  1           \n",
       "26  175 24   33 NaN NaN 21.0 NaN   9  NaN  NaN   -3.0 NaN  1           \n",
       "27  177 33   43  32  19 15.0  14  10   -1  -14  -18.0 -19  1           \n",
       "28  178  5    5   4   0  5.0   1   0   -1   -5    0.0  -4  1           \n",
       "29  180  2  NaN NaN NaN  1.0 NaN NaN  NaN  NaN   -1.0 NaN  1           \n",
       "30  187  1    0   0   0  1.0   1  -1   -1   -1    0.0   0  1           \n",
       "<U+22EE>   <U+22EE> <U+22EE> <U+22EE> <U+22EE> <U+22EE> <U+22EE> <U+22EE> <U+22EE> <U+22EE> <U+22EE> <U+22EE> <U+22EE> <U+22EE>    \n",
       "173 156  0  NaN NaN   1   4    0 NaN  NaN    1    4     0  4           \n",
       "174 158  3    3   3   1   5  NaN   0    0   -2    2   NaN  4           \n",
       "175 159 27   12 NaN NaN NaN   13 -15  NaN  NaN  NaN   -14  4           \n",
       "176 160 11  NaN   6   3   0    4 NaN   -5   -8  -11    -7  4           \n",
       "177 166 15   21 NaN NaN NaN  NaN   6  NaN  NaN  NaN   NaN  4           \n",
       "178 183 14   19 NaN NaN NaN  NaN   5  NaN  NaN  NaN   NaN  4           \n",
       "179 186 10    4  26  13   4    4  -6   16    3   -6    -6  4           \n",
       "180 192 30    6 NaN NaN NaN  NaN -24  NaN  NaN  NaN   NaN  4           \n",
       "181 197 11  NaN  11   6   3   13 NaN    0   -5   -8     2  4           \n",
       "182 202 17  NaN  13 NaN NaN    3 NaN   -4  NaN  NaN   -14  4           \n",
       "183 204 14   16 NaN NaN NaN  NaN   2  NaN  NaN  NaN   NaN  4           \n",
       "184 215  1   11   1   1   4  NaN  10    0    0    3   NaN  4           \n",
       "185 217 10   23  20  45 NaN    5  13   10   35  NaN    -5  4           \n",
       "186 227  4    7   2   5 NaN  NaN   3   -2    1  NaN   NaN  4           \n",
       "187 229  0    4   1   1 NaN  NaN   4    1    1  NaN   NaN  4           \n",
       "188 237  9    9   2   0  10    1   0   -7   -9    1    -8  4           \n",
       "189 238  4    5   6   0   8    1   1    2   -4    4    -3  4           \n",
       "190 241 11    6   4   6   4    7  -5   -7   -5   -7    -4  4           \n",
       "191 242  7    5 NaN NaN NaN  NaN  -2  NaN  NaN  NaN   NaN  4           \n",
       "192 243 19    4  11   7  14   23 -15   -8  -12   -5     4  4           \n",
       "193 245  0    4   0   1   8    0   4    0    1    8     0  4           \n",
       "194 251 11    9  25  12   8    8  -2   14    1   -3    -3  4           \n",
       "195 255  9  NaN   9  18  14   11 NaN    0    9    5     2  4           \n",
       "196 259  6    3   2   3   4    3  -3   -4   -3   -2    -3  4           \n",
       "197 266 10  NaN   7 NaN NaN  NaN NaN   -3  NaN  NaN   NaN  4           \n",
       "198 267 41  NaN  36  29  17   14 NaN   -5  -12  -24   -27  4           \n",
       "199 270 10    8 NaN NaN NaN  NaN  -2  NaN  NaN  NaN   NaN  4           \n",
       "200 278 17    1   1  14   0   34 -16  -16   -3  -17    17  4           \n",
       "201 281  4    1   1   1   0    1  -3   -3   -3   -4    -3  4           \n",
       "202 292 30    6 NaN NaN NaN  NaN -24  NaN  NaN  NaN   NaN  4           "
      ]
     },
     "metadata": {},
     "output_type": "display_data"
    }
   ],
   "source": [
    "#usntack the tall dataframe into a wide dataframe\n",
    "#create columns for difference calculations\n",
    "exp_data_cesd <- subset(exp_data_multionly, select = c(id, occasion, intervention, cesdTotal))\n",
    "cols = c('id', 'ob0', 'ob1', 'ob2', 'ob3', 'ob4', 'ob5')\n",
    "\n",
    "exp_data_cesd_1 <- exp_data_cesd %>% filter(intervention == 1)\n",
    "exp_data_cesd_1$intervention <- NULL\n",
    "exp_data_cesd_1 <- dcast(exp_data_cesd_1, id~occasion, fill = NULL, fun.aggregate = mean, , drop = FALSE)\n",
    "colnames(exp_data_cesd_1) = cols\n",
    "exp_data_cesd_1 <- exp_data_cesd_1 %>% mutate(d1wk = ob1-ob0, \n",
    "                                            d2wk = ob2-ob0, \n",
    "                                            d1mo = ob3-ob0,\n",
    "                                            d3mo = ob4-ob0,\n",
    "                                            d6mo = ob5-ob0,\n",
    "                                            intervention = 1)\n",
    "\n",
    "exp_data_cesd_2 <- exp_data_cesd %>% filter(intervention == 2)\n",
    "exp_data_cesd_2$intervention <- NULL\n",
    "exp_data_cesd_2 <- dcast(exp_data_cesd_2, id~occasion, fill = NULL, fun.aggregate = mean, , drop = FALSE)\n",
    "colnames(exp_data_cesd_2) = cols\n",
    "exp_data_cesd_2 <- exp_data_cesd_2 %>% mutate(d1wk = ob1-ob0, \n",
    "                                            d2wk = ob2-ob0, \n",
    "                                            d1mo = ob3-ob0,\n",
    "                                            d3mo = ob4-ob0,\n",
    "                                            d6mo = ob5-ob0,\n",
    "                                            intervention = 2)\n",
    "\n",
    "exp_data_cesd_3 <- exp_data_cesd %>% filter(intervention == 3)\n",
    "exp_data_cesd_3$intervention <- NULL\n",
    "exp_data_cesd_3 <- dcast(exp_data_cesd_3, id~occasion, fill = NULL, fun.aggregate = mean, , drop = FALSE)\n",
    "colnames(exp_data_cesd_3) = cols\n",
    "exp_data_cesd_3 <- exp_data_cesd_3 %>% mutate(d1wk = ob1-ob0, \n",
    "                                            d2wk = ob2-ob0, \n",
    "                                            d1mo = ob3-ob0,\n",
    "                                            d3mo = ob4-ob0,\n",
    "                                            d6mo = ob5-ob0,\n",
    "                                            intervention = 3)\n",
    "\n",
    "exp_data_cesd_4 <- exp_data_cesd %>% filter(intervention == 4)\n",
    "exp_data_cesd_4$intervention <- NULL\n",
    "exp_data_cesd_4 <- dcast(exp_data_cesd_4, id~occasion, fill = NULL, fun.aggregate = mean, , drop = FALSE)\n",
    "colnames(exp_data_cesd_4) = cols\n",
    "exp_data_cesd_4 <- exp_data_cesd_4 %>% mutate(d1wk = ob1-ob0, \n",
    "                                            d2wk = ob2-ob0, \n",
    "                                            d1mo = ob3-ob0,\n",
    "                                            d3mo = ob4-ob0,\n",
    "                                            d6mo = ob5-ob0,\n",
    "                                            intervention = 4)\n",
    "\n",
    "#row-bind the four dfs into a single df\n",
    "exp_data_cesd_diffs <- rbind(exp_data_cesd_1, exp_data_cesd_2, exp_data_cesd_3, exp_data_cesd_4)\n",
    "exp_data_cesd_diffs"
   ]
  },
  {
   "cell_type": "markdown",
   "metadata": {},
   "source": [
    "Just as with the AHI measure, I will perform ANOVA on the changes in CESD."
   ]
  },
  {
   "cell_type": "code",
   "execution_count": 20,
   "metadata": {},
   "outputs": [],
   "source": [
    "#perform anova for each differnce calculation and store the results\n",
    "cesd_1wk_anova <- aov(d1wk ~ intervention, data = exp_data_cesd_diffs)\n",
    "cesd_2wk_anova <- aov(d2wk ~ intervention, data = exp_data_cesd_diffs)\n",
    "cesd_1mo_anova <- aov(d1mo ~ intervention, data = exp_data_cesd_diffs)\n",
    "cesd_3mo_anova <- aov(d3mo ~ intervention, data = exp_data_cesd_diffs)\n",
    "cesd_6mo_anova <- aov(d6mo ~ intervention, data = exp_data_cesd_diffs)"
   ]
  },
  {
   "cell_type": "code",
   "execution_count": 21,
   "metadata": {},
   "outputs": [
    {
     "data": {
      "text/plain": [
       "              Df Sum Sq Mean Sq F value Pr(>F)\n",
       "intervention   1    136  135.68   2.096   0.15\n",
       "Residuals    145   9387   64.74               \n",
       "55 observations deleted due to missingness"
      ]
     },
     "metadata": {},
     "output_type": "display_data"
    }
   ],
   "source": [
    "summary(cesd_1wk_anova)"
   ]
  },
  {
   "cell_type": "code",
   "execution_count": 22,
   "metadata": {},
   "outputs": [
    {
     "data": {
      "text/plain": [
       "              Df Sum Sq Mean Sq F value Pr(>F)\n",
       "intervention   1     12   12.03   0.223  0.637\n",
       "Residuals    154   8290   53.83               \n",
       "46 observations deleted due to missingness"
      ]
     },
     "metadata": {},
     "output_type": "display_data"
    }
   ],
   "source": [
    "summary(cesd_2wk_anova)"
   ]
  },
  {
   "cell_type": "code",
   "execution_count": 23,
   "metadata": {},
   "outputs": [
    {
     "data": {
      "text/plain": [
       "              Df Sum Sq Mean Sq F value Pr(>F)\n",
       "intervention   1      2    1.80   0.023   0.88\n",
       "Residuals    137  10860   79.27               \n",
       "63 observations deleted due to missingness"
      ]
     },
     "metadata": {},
     "output_type": "display_data"
    }
   ],
   "source": [
    "summary(cesd_1mo_anova)"
   ]
  },
  {
   "cell_type": "code",
   "execution_count": 24,
   "metadata": {},
   "outputs": [
    {
     "data": {
      "text/plain": [
       "              Df Sum Sq Mean Sq F value Pr(>F)\n",
       "intervention   1      0    0.36   0.004  0.951\n",
       "Residuals    131  12625   96.37               \n",
       "69 observations deleted due to missingness"
      ]
     },
     "metadata": {},
     "output_type": "display_data"
    }
   ],
   "source": [
    "summary(cesd_3mo_anova)"
   ]
  },
  {
   "cell_type": "code",
   "execution_count": 25,
   "metadata": {},
   "outputs": [
    {
     "data": {
      "text/plain": [
       "              Df Sum Sq Mean Sq F value Pr(>F)\n",
       "intervention   1     64   63.52   0.605  0.438\n",
       "Residuals    118  12390  105.00               \n",
       "82 observations deleted due to missingness"
      ]
     },
     "metadata": {},
     "output_type": "display_data"
    }
   ],
   "source": [
    "summary(cesd_6mo_anova)"
   ]
  },
  {
   "cell_type": "markdown",
   "metadata": {},
   "source": [
    "Again, as expected due to the ANOVA results from AHI, there does not seem to be a meaningful difference between the 4 interventions in terms of how uch impact the intervention had on CESD scores.\n",
    "\n",
    "## 3.2 Significance of Treatment Efficacy\n",
    "To determine whether the interventions were effective, I will use paired T-tests on each intervention for each time period.\n",
    "\n",
    "### 3.2.1 Effect of Interventions on AHI Score - Paired T-Test\n",
    "First, I will look at how each treatment impacted AHI score for each of the given time intervals."
   ]
  },
  {
   "cell_type": "code",
   "execution_count": 26,
   "metadata": {},
   "outputs": [
    {
     "data": {
      "text/plain": [
       "\n",
       "\tWelch Two Sample t-test\n",
       "\n",
       "data:  exp_data_ahi_1$ob0 and exp_data_ahi_1$ob1\n",
       "t = -0.7599, df = 64.084, p-value = 0.225\n",
       "alternative hypothesis: true difference in means is less than 0\n",
       "95 percent confidence interval:\n",
       "     -Inf 2.924305\n",
       "sample estimates:\n",
       "mean of x mean of y \n",
       " 67.08889  69.53333 \n"
      ]
     },
     "metadata": {},
     "output_type": "display_data"
    },
    {
     "data": {
      "text/plain": [
       "\n",
       "\tWelch Two Sample t-test\n",
       "\n",
       "data:  exp_data_ahi_2$ob0 and exp_data_ahi_2$ob1\n",
       "t = -0.98063, df = 101.02, p-value = 0.1646\n",
       "alternative hypothesis: true difference in means is less than 0\n",
       "95 percent confidence interval:\n",
       "     -Inf 1.692678\n",
       "sample estimates:\n",
       "mean of x mean of y \n",
       " 69.14035  71.58333 \n"
      ]
     },
     "metadata": {},
     "output_type": "display_data"
    },
    {
     "data": {
      "text/plain": [
       "\n",
       "\tWelch Two Sample t-test\n",
       "\n",
       "data:  exp_data_ahi_3$ob0 and exp_data_ahi_3$ob1\n",
       "t = -1.0553, df = 47.462, p-value = 0.1483\n",
       "alternative hypothesis: true difference in means is less than 0\n",
       "95 percent confidence interval:\n",
       "    -Inf 2.17086\n",
       "sample estimates:\n",
       "mean of x mean of y \n",
       " 70.31818  74.00000 \n"
      ]
     },
     "metadata": {},
     "output_type": "display_data"
    },
    {
     "data": {
      "text/plain": [
       "\n",
       "\tWelch Two Sample t-test\n",
       "\n",
       "data:  exp_data_ahi_4$ob0 and exp_data_ahi_4$ob1\n",
       "t = -0.98049, df = 98.73, p-value = 0.1646\n",
       "alternative hypothesis: true difference in means is less than 0\n",
       "95 percent confidence interval:\n",
       "     -Inf 1.683614\n",
       "sample estimates:\n",
       "mean of x mean of y \n",
       " 71.75000  74.17778 \n"
      ]
     },
     "metadata": {},
     "output_type": "display_data"
    }
   ],
   "source": [
    "#T test for intervention 1\n",
    "t.test(exp_data_ahi_1$ob0, exp_data_ahi_1$ob1, alternative = \"less\", mu=0, paired = FALSE, conf.level = 0.95)\n",
    "\n",
    "#T test for intervention 2\n",
    "t.test(exp_data_ahi_2$ob0, exp_data_ahi_2$ob1, alternative = \"less\", mu=0, paired = FALSE, conf.level = 0.95)\n",
    "\n",
    "#T test for intervention 3\n",
    "t.test(exp_data_ahi_3$ob0, exp_data_ahi_3$ob1, alternative = \"less\", mu=0, paired = FALSE, conf.level = 0.95)\n",
    "\n",
    "#T test for intervention 4\n",
    "t.test(exp_data_ahi_4$ob0, exp_data_ahi_4$ob1, alternative = \"less\", mu=0, paired = FALSE, conf.level = 0.95)\n"
   ]
  },
  {
   "cell_type": "markdown",
   "metadata": {},
   "source": [
    "After 1 week, the interventions' impact seems difficult to distinguish from random variation. Next, I'll do another paired t-test to see if the impact is easier to see after 2 weeks."
   ]
  },
  {
   "cell_type": "code",
   "execution_count": 27,
   "metadata": {},
   "outputs": [
    {
     "data": {
      "text/plain": [
       "\n",
       "\tWelch Two Sample t-test\n",
       "\n",
       "data:  exp_data_ahi_1$ob0 and exp_data_ahi_1$ob2\n",
       "t = -0.98799, df = 74.9, p-value = 0.1632\n",
       "alternative hypothesis: true difference in means is less than 0\n",
       "95 percent confidence interval:\n",
       "     -Inf 2.230729\n",
       "sample estimates:\n",
       "mean of x mean of y \n",
       " 67.08889  70.34211 \n"
      ]
     },
     "metadata": {},
     "output_type": "display_data"
    },
    {
     "data": {
      "text/plain": [
       "\n",
       "\tWelch Two Sample t-test\n",
       "\n",
       "data:  exp_data_ahi_2$ob0 and exp_data_ahi_2$ob2\n",
       "t = -1.733, df = 97.05, p-value = 0.04314\n",
       "alternative hypothesis: true difference in means is less than 0\n",
       "95 percent confidence interval:\n",
       "       -Inf -0.1876521\n",
       "sample estimates:\n",
       "mean of x mean of y \n",
       " 69.14035  73.63830 \n"
      ]
     },
     "metadata": {},
     "output_type": "display_data"
    },
    {
     "data": {
      "text/plain": [
       "\n",
       "\tWelch Two Sample t-test\n",
       "\n",
       "data:  exp_data_ahi_3$ob0 and exp_data_ahi_3$ob2\n",
       "t = -0.51761, df = 59.873, p-value = 0.3033\n",
       "alternative hypothesis: true difference in means is less than 0\n",
       "95 percent confidence interval:\n",
       "     -Inf 4.094677\n",
       "sample estimates:\n",
       "mean of x mean of y \n",
       " 70.31818  72.15625 \n"
      ]
     },
     "metadata": {},
     "output_type": "display_data"
    },
    {
     "data": {
      "text/plain": [
       "\n",
       "\tWelch Two Sample t-test\n",
       "\n",
       "data:  exp_data_ahi_4$ob0 and exp_data_ahi_4$ob2\n",
       "t = -1.8058, df = 87.381, p-value = 0.0372\n",
       "alternative hypothesis: true difference in means is less than 0\n",
       "95 percent confidence interval:\n",
       "       -Inf -0.3779719\n",
       "sample estimates:\n",
       "mean of x mean of y \n",
       " 71.75000  76.51282 \n"
      ]
     },
     "metadata": {},
     "output_type": "display_data"
    }
   ],
   "source": [
    "#T test for intervention 1\n",
    "t.test(exp_data_ahi_1$ob0, exp_data_ahi_1$ob2, alternative = \"less\", mu=0, paired = FALSE, conf.level = 0.95)\n",
    "\n",
    "#T test for intervention 2\n",
    "t.test(exp_data_ahi_2$ob0, exp_data_ahi_2$ob2, alternative = \"less\", mu=0, paired = FALSE, conf.level = 0.95)\n",
    "\n",
    "#T test for intervention 3\n",
    "t.test(exp_data_ahi_3$ob0, exp_data_ahi_3$ob2, alternative = \"less\", mu=0, paired = FALSE, conf.level = 0.95)\n",
    "\n",
    "#T test for intervention 4\n",
    "t.test(exp_data_ahi_4$ob0, exp_data_ahi_4$ob2, alternative = \"less\", mu=0, paired = FALSE, conf.level = 0.95)\n"
   ]
  },
  {
   "cell_type": "markdown",
   "metadata": {},
   "source": [
    "Now two of the interventions have a mean greater than the pre-intervention value, with a p-value less than 0.05. Next, I'll compare the values for 1 month."
   ]
  },
  {
   "cell_type": "code",
   "execution_count": 28,
   "metadata": {},
   "outputs": [
    {
     "data": {
      "text/plain": [
       "\n",
       "\tWelch Two Sample t-test\n",
       "\n",
       "data:  exp_data_ahi_1$ob0 and exp_data_ahi_1$ob3\n",
       "t = -2.5176, df = 63.818, p-value = 0.007168\n",
       "alternative hypothesis: true difference in means is less than 0\n",
       "95 percent confidence interval:\n",
       "     -Inf -2.67797\n",
       "sample estimates:\n",
       "mean of x mean of y \n",
       " 67.08889  75.03448 \n"
      ]
     },
     "metadata": {},
     "output_type": "display_data"
    },
    {
     "data": {
      "text/plain": [
       "\n",
       "\tWelch Two Sample t-test\n",
       "\n",
       "data:  exp_data_ahi_2$ob0 and exp_data_ahi_2$ob3\n",
       "t = -1.2038, df = 85.887, p-value = 0.116\n",
       "alternative hypothesis: true difference in means is less than 0\n",
       "95 percent confidence interval:\n",
       "     -Inf 1.267774\n",
       "sample estimates:\n",
       "mean of x mean of y \n",
       " 69.14035  72.46512 \n"
      ]
     },
     "metadata": {},
     "output_type": "display_data"
    },
    {
     "data": {
      "text/plain": [
       "\n",
       "\tWelch Two Sample t-test\n",
       "\n",
       "data:  exp_data_ahi_3$ob0 and exp_data_ahi_3$ob3\n",
       "t = -0.97026, df = 54.177, p-value = 0.1681\n",
       "alternative hypothesis: true difference in means is less than 0\n",
       "95 percent confidence interval:\n",
       "     -Inf 2.595959\n",
       "sample estimates:\n",
       "mean of x mean of y \n",
       " 70.31818  73.90000 \n"
      ]
     },
     "metadata": {},
     "output_type": "display_data"
    },
    {
     "data": {
      "text/plain": [
       "\n",
       "\tWelch Two Sample t-test\n",
       "\n",
       "data:  exp_data_ahi_4$ob0 and exp_data_ahi_4$ob3\n",
       "t = -1.7125, df = 69.009, p-value = 0.04565\n",
       "alternative hypothesis: true difference in means is less than 0\n",
       "95 percent confidence interval:\n",
       "       -Inf -0.1424011\n",
       "sample estimates:\n",
       "mean of x mean of y \n",
       " 71.75000  77.13514 \n"
      ]
     },
     "metadata": {},
     "output_type": "display_data"
    }
   ],
   "source": [
    "#T test for intervention 1\n",
    "t.test(exp_data_ahi_1$ob0, exp_data_ahi_1$ob3, alternative = \"less\", mu=0, paired = FALSE, conf.level = 0.95)\n",
    "\n",
    "#T test for intervention 2\n",
    "t.test(exp_data_ahi_2$ob0, exp_data_ahi_2$ob3, alternative = \"less\", mu=0, paired = FALSE, conf.level = 0.95)\n",
    "\n",
    "#T test for intervention 3\n",
    "t.test(exp_data_ahi_3$ob0, exp_data_ahi_3$ob3, alternative = \"less\", mu=0, paired = FALSE, conf.level = 0.95)\n",
    "\n",
    "#T test for intervention 4\n",
    "t.test(exp_data_ahi_4$ob0, exp_data_ahi_4$ob3, alternative = \"less\", mu=0, paired = FALSE, conf.level = 0.95)\n"
   ]
  },
  {
   "cell_type": "markdown",
   "metadata": {},
   "source": [
    "As with obserbvation 2, treatment 4 seems to have a statistically significant effect. Treatmet 2 did not show a meaningful effect this time, but treatment 1 showed a very straong effect. Now I'll see how strong an effect there was after 3 months."
   ]
  },
  {
   "cell_type": "code",
   "execution_count": 29,
   "metadata": {},
   "outputs": [
    {
     "data": {
      "text/plain": [
       "\n",
       "\tWelch Two Sample t-test\n",
       "\n",
       "data:  exp_data_ahi_1$ob0 and exp_data_ahi_1$ob4\n",
       "t = -2.8435, df = 67.293, p-value = 0.002952\n",
       "alternative hypothesis: true difference in means is less than 0\n",
       "95 percent confidence interval:\n",
       "     -Inf -4.05058\n",
       "sample estimates:\n",
       "mean of x mean of y \n",
       " 67.08889  76.88571 \n"
      ]
     },
     "metadata": {},
     "output_type": "display_data"
    },
    {
     "data": {
      "text/plain": [
       "\n",
       "\tWelch Two Sample t-test\n",
       "\n",
       "data:  exp_data_ahi_2$ob0 and exp_data_ahi_2$ob4\n",
       "t = -1.3288, df = 63.523, p-value = 0.09433\n",
       "alternative hypothesis: true difference in means is less than 0\n",
       "95 percent confidence interval:\n",
       "     -Inf 1.099498\n",
       "sample estimates:\n",
       "mean of x mean of y \n",
       " 69.14035  73.43243 \n"
      ]
     },
     "metadata": {},
     "output_type": "display_data"
    },
    {
     "data": {
      "text/plain": [
       "\n",
       "\tWelch Two Sample t-test\n",
       "\n",
       "data:  exp_data_ahi_3$ob0 and exp_data_ahi_3$ob4\n",
       "t = -0.21662, df = 52.688, p-value = 0.4147\n",
       "alternative hypothesis: true difference in means is less than 0\n",
       "95 percent confidence interval:\n",
       "     -Inf 5.086606\n",
       "sample estimates:\n",
       "mean of x mean of y \n",
       " 70.31818  71.07407 \n"
      ]
     },
     "metadata": {},
     "output_type": "display_data"
    },
    {
     "data": {
      "text/plain": [
       "\n",
       "\tWelch Two Sample t-test\n",
       "\n",
       "data:  exp_data_ahi_4$ob0 and exp_data_ahi_4$ob4\n",
       "t = -2.4318, df = 68.334, p-value = 0.008826\n",
       "alternative hypothesis: true difference in means is less than 0\n",
       "95 percent confidence interval:\n",
       "      -Inf -2.278669\n",
       "sample estimates:\n",
       "mean of x mean of y \n",
       "    71.75     79.00 \n"
      ]
     },
     "metadata": {},
     "output_type": "display_data"
    }
   ],
   "source": [
    "#T test for intervention 1\n",
    "t.test(exp_data_ahi_1$ob0, exp_data_ahi_1$ob4, alternative = \"less\", mu=0, paired = FALSE, conf.level = 0.95)\n",
    "\n",
    "#T test for intervention 2\n",
    "t.test(exp_data_ahi_2$ob0, exp_data_ahi_2$ob4, alternative = \"less\", mu=0, paired = FALSE, conf.level = 0.95)\n",
    "\n",
    "#T test for intervention 3\n",
    "t.test(exp_data_ahi_3$ob0, exp_data_ahi_3$ob4, alternative = \"less\", mu=0, paired = FALSE, conf.level = 0.95)\n",
    "\n",
    "#T test for intervention 4\n",
    "t.test(exp_data_ahi_4$ob0, exp_data_ahi_4$ob4, alternative = \"less\", mu=0, paired = FALSE, conf.level = 0.95)\n"
   ]
  },
  {
   "cell_type": "markdown",
   "metadata": {},
   "source": [
    "As with observation 3, treatments 1 and 4 showed a significant effect, while the others did not. Last one to check is observation 5."
   ]
  },
  {
   "cell_type": "code",
   "execution_count": 30,
   "metadata": {},
   "outputs": [
    {
     "data": {
      "text/plain": [
       "\n",
       "\tWelch Two Sample t-test\n",
       "\n",
       "data:  exp_data_ahi_1$ob0 and exp_data_ahi_1$ob5\n",
       "t = -2.4126, df = 53.414, p-value = 0.009653\n",
       "alternative hypothesis: true difference in means is less than 0\n",
       "95 percent confidence interval:\n",
       "      -Inf -2.569613\n",
       "sample estimates:\n",
       "mean of x mean of y \n",
       " 67.08889  75.48148 \n"
      ]
     },
     "metadata": {},
     "output_type": "display_data"
    },
    {
     "data": {
      "text/plain": [
       "\n",
       "\tWelch Two Sample t-test\n",
       "\n",
       "data:  exp_data_ahi_2$ob0 and exp_data_ahi_2$ob5\n",
       "t = -1.6906, df = 65.001, p-value = 0.04785\n",
       "alternative hypothesis: true difference in means is less than 0\n",
       "95 percent confidence interval:\n",
       "        -Inf -0.06961288\n",
       "sample estimates:\n",
       "mean of x mean of y \n",
       " 69.14035  74.48649 \n"
      ]
     },
     "metadata": {},
     "output_type": "display_data"
    },
    {
     "data": {
      "text/plain": [
       "\n",
       "\tWelch Two Sample t-test\n",
       "\n",
       "data:  exp_data_ahi_3$ob0 and exp_data_ahi_3$ob5\n",
       "t = -1.2017, df = 44.878, p-value = 0.1179\n",
       "alternative hypothesis: true difference in means is less than 0\n",
       "95 percent confidence interval:\n",
       "     -Inf 1.688682\n",
       "sample estimates:\n",
       "mean of x mean of y \n",
       " 70.31818  74.56522 \n"
      ]
     },
     "metadata": {},
     "output_type": "display_data"
    },
    {
     "data": {
      "text/plain": [
       "\n",
       "\tWelch Two Sample t-test\n",
       "\n",
       "data:  exp_data_ahi_4$ob0 and exp_data_ahi_4$ob5\n",
       "t = -2.2872, df = 67.28, p-value = 0.01267\n",
       "alternative hypothesis: true difference in means is less than 0\n",
       "95 percent confidence interval:\n",
       "      -Inf -1.831948\n",
       "sample estimates:\n",
       "mean of x mean of y \n",
       " 71.75000  78.51515 \n"
      ]
     },
     "metadata": {},
     "output_type": "display_data"
    }
   ],
   "source": [
    "#T test for intervention 1\n",
    "t.test(exp_data_ahi_1$ob0, exp_data_ahi_1$ob5, alternative = \"less\", mu=0, paired = FALSE, conf.level = 0.95)\n",
    "\n",
    "#T test for intervention 2\n",
    "t.test(exp_data_ahi_2$ob0, exp_data_ahi_2$ob5, alternative = \"less\", mu=0, paired = FALSE, conf.level = 0.95)\n",
    "\n",
    "#T test for intervention 3\n",
    "t.test(exp_data_ahi_3$ob0, exp_data_ahi_3$ob5, alternative = \"less\", mu=0, paired = FALSE, conf.level = 0.95)\n",
    "\n",
    "#T test for intervention 4\n",
    "t.test(exp_data_ahi_4$ob0, exp_data_ahi_4$ob5, alternative = \"less\", mu=0, paired = FALSE, conf.level = 0.95)\n"
   ]
  },
  {
   "cell_type": "markdown",
   "metadata": {},
   "source": [
    "Treatments 1, 2, and 4 all showed statistically significant differences from the original value.\n",
    "\n",
    "\n",
    "### 3.2.2 Effect of Interventions on CESD Score - Paired T-Test\n",
    "Next, I will see what effect the four treatments had on the depression (CESD) index."
   ]
  },
  {
   "cell_type": "code",
   "execution_count": 31,
   "metadata": {},
   "outputs": [
    {
     "data": {
      "text/plain": [
       "\n",
       "\tWelch Two Sample t-test\n",
       "\n",
       "data:  exp_data_cesd_1$ob0 and exp_data_cesd_1$ob1\n",
       "t = 0.13582, df = 51.608, p-value = 0.4462\n",
       "alternative hypothesis: true difference in means is greater than 0\n",
       "95 percent confidence interval:\n",
       " -4.910581       Inf\n",
       "sample estimates:\n",
       "mean of x mean of y \n",
       " 15.73333  15.30000 \n"
      ]
     },
     "metadata": {},
     "output_type": "display_data"
    },
    {
     "data": {
      "text/plain": [
       "\n",
       "\tWelch Two Sample t-test\n",
       "\n",
       "data:  exp_data_cesd_2$ob0 and exp_data_cesd_2$ob1\n",
       "t = 0.55365, df = 93.33, p-value = 0.2906\n",
       "alternative hypothesis: true difference in means is greater than 0\n",
       "95 percent confidence interval:\n",
       " -2.342919       Inf\n",
       "sample estimates:\n",
       "mean of x mean of y \n",
       " 15.75439  14.58333 \n"
      ]
     },
     "metadata": {},
     "output_type": "display_data"
    },
    {
     "data": {
      "text/plain": [
       "\n",
       "\tWelch Two Sample t-test\n",
       "\n",
       "data:  exp_data_cesd_3$ob0 and exp_data_cesd_3$ob1\n",
       "t = 1.2939, df = 56.309, p-value = 0.1005\n",
       "alternative hypothesis: true difference in means is greater than 0\n",
       "95 percent confidence interval:\n",
       " -1.113503       Inf\n",
       "sample estimates:\n",
       "mean of x mean of y \n",
       " 16.43182  12.62500 \n"
      ]
     },
     "metadata": {},
     "output_type": "display_data"
    },
    {
     "data": {
      "text/plain": [
       "\n",
       "\tWelch Two Sample t-test\n",
       "\n",
       "data:  exp_data_cesd_4$ob0 and exp_data_cesd_4$ob1\n",
       "t = 1.8573, df = 99, p-value = 0.03312\n",
       "alternative hypothesis: true difference in means is greater than 0\n",
       "95 percent confidence interval:\n",
       " 0.3379442       Inf\n",
       "sample estimates:\n",
       "mean of x mean of y \n",
       "13.053571  9.866667 \n"
      ]
     },
     "metadata": {},
     "output_type": "display_data"
    }
   ],
   "source": [
    "#T test for intervention 1\n",
    "t.test(exp_data_cesd_1$ob0, exp_data_cesd_1$ob1, alternative = \"greater\", mu=0, paired = FALSE, conf.level = 0.95)\n",
    "\n",
    "#T test for intervention 2\n",
    "t.test(exp_data_cesd_2$ob0, exp_data_cesd_2$ob1, alternative = \"greater\", mu=0, paired = FALSE, conf.level = 0.95)\n",
    "\n",
    "#T test for intervention 3\n",
    "t.test(exp_data_cesd_3$ob0, exp_data_cesd_3$ob1, alternative = \"greater\", mu=0, paired = FALSE, conf.level = 0.95)\n",
    "\n",
    "#T test for intervention 4\n",
    "t.test(exp_data_cesd_4$ob0, exp_data_cesd_4$ob1, alternative = \"greater\", mu=0, paired = FALSE, conf.level = 0.95)\n"
   ]
  },
  {
   "cell_type": "markdown",
   "metadata": {},
   "source": [
    "No significant effect is observable on depressive symptoms after just 1 week of intervention for any of the interventions. Next, I'll check afer 2 weeks."
   ]
  },
  {
   "cell_type": "code",
   "execution_count": 32,
   "metadata": {},
   "outputs": [
    {
     "data": {
      "text/plain": [
       "\n",
       "\tWelch Two Sample t-test\n",
       "\n",
       "data:  exp_data_cesd_1$ob0 and exp_data_cesd_1$ob2\n",
       "t = 0.76227, df = 71.959, p-value = 0.2242\n",
       "alternative hypothesis: true difference in means is greater than 0\n",
       "95 percent confidence interval:\n",
       " -2.555076       Inf\n",
       "sample estimates:\n",
       "mean of x mean of y \n",
       " 15.73333  13.57895 \n"
      ]
     },
     "metadata": {},
     "output_type": "display_data"
    },
    {
     "data": {
      "text/plain": [
       "\n",
       "\tWelch Two Sample t-test\n",
       "\n",
       "data:  exp_data_cesd_2$ob0 and exp_data_cesd_2$ob2\n",
       "t = 2.224, df = 96.59, p-value = 0.01424\n",
       "alternative hypothesis: true difference in means is greater than 0\n",
       "95 percent confidence interval:\n",
       " 1.123243      Inf\n",
       "sample estimates:\n",
       "mean of x mean of y \n",
       " 15.75439  11.31915 \n"
      ]
     },
     "metadata": {},
     "output_type": "display_data"
    },
    {
     "data": {
      "text/plain": [
       "\n",
       "\tWelch Two Sample t-test\n",
       "\n",
       "data:  exp_data_cesd_3$ob0 and exp_data_cesd_3$ob2\n",
       "t = 0.50148, df = 61.872, p-value = 0.3089\n",
       "alternative hypothesis: true difference in means is greater than 0\n",
       "95 percent confidence interval:\n",
       " -3.845581       Inf\n",
       "sample estimates:\n",
       "mean of x mean of y \n",
       " 16.43182  14.78125 \n"
      ]
     },
     "metadata": {},
     "output_type": "display_data"
    },
    {
     "data": {
      "text/plain": [
       "\n",
       "\tWelch Two Sample t-test\n",
       "\n",
       "data:  exp_data_cesd_4$ob0 and exp_data_cesd_4$ob2\n",
       "t = 1.8755, df = 85.45, p-value = 0.03207\n",
       "alternative hypothesis: true difference in means is greater than 0\n",
       "95 percent confidence interval:\n",
       " 0.4071603       Inf\n",
       "sample estimates:\n",
       "mean of x mean of y \n",
       "13.053571  9.461538 \n"
      ]
     },
     "metadata": {},
     "output_type": "display_data"
    }
   ],
   "source": [
    "#T test for intervention 1\n",
    "t.test(exp_data_cesd_1$ob0, exp_data_cesd_1$ob2, alternative = \"greater\", mu=0, paired = FALSE, conf.level = 0.95)\n",
    "\n",
    "#T test for intervention 2\n",
    "t.test(exp_data_cesd_2$ob0, exp_data_cesd_2$ob2, alternative = \"greater\", mu=0, paired = FALSE, conf.level = 0.95)\n",
    "\n",
    "#T test for intervention 3\n",
    "t.test(exp_data_cesd_3$ob0, exp_data_cesd_3$ob2, alternative = \"greater\", mu=0, paired = FALSE, conf.level = 0.95)\n",
    "\n",
    "#T test for intervention 4\n",
    "t.test(exp_data_cesd_4$ob0, exp_data_cesd_4$ob2, alternative = \"greater\", mu=0, paired = FALSE, conf.level = 0.95)\n"
   ]
  },
  {
   "cell_type": "markdown",
   "metadata": {},
   "source": [
    "Treatment 2 seems to be shwoing a statistically significant impact, but I'll check the subsequent observations to see if that impact was lasting."
   ]
  },
  {
   "cell_type": "code",
   "execution_count": 33,
   "metadata": {},
   "outputs": [
    {
     "data": {
      "text/plain": [
       "\n",
       "\tWelch Two Sample t-test\n",
       "\n",
       "data:  exp_data_cesd_1$ob0 and exp_data_cesd_1$ob3\n",
       "t = 1.2184, df = 52.3, p-value = 0.1143\n",
       "alternative hypothesis: true difference in means is greater than 0\n",
       "95 percent confidence interval:\n",
       " -1.397703       Inf\n",
       "sample estimates:\n",
       "mean of x mean of y \n",
       " 15.73333  12.00000 \n"
      ]
     },
     "metadata": {},
     "output_type": "display_data"
    },
    {
     "data": {
      "text/plain": [
       "\n",
       "\tWelch Two Sample t-test\n",
       "\n",
       "data:  exp_data_cesd_2$ob0 and exp_data_cesd_2$ob3\n",
       "t = 1.5743, df = 87.962, p-value = 0.0595\n",
       "alternative hypothesis: true difference in means is greater than 0\n",
       "95 percent confidence interval:\n",
       " -0.1813165        Inf\n",
       "sample estimates:\n",
       "mean of x mean of y \n",
       " 15.75439  12.51163 \n"
      ]
     },
     "metadata": {},
     "output_type": "display_data"
    },
    {
     "data": {
      "text/plain": [
       "\n",
       "\tWelch Two Sample t-test\n",
       "\n",
       "data:  exp_data_cesd_3$ob0 and exp_data_cesd_3$ob3\n",
       "t = 0.91501, df = 62.856, p-value = 0.1818\n",
       "alternative hypothesis: true difference in means is greater than 0\n",
       "95 percent confidence interval:\n",
       " -2.334934       Inf\n",
       "sample estimates:\n",
       "mean of x mean of y \n",
       " 16.43182  13.60000 \n"
      ]
     },
     "metadata": {},
     "output_type": "display_data"
    },
    {
     "data": {
      "text/plain": [
       "\n",
       "\tWelch Two Sample t-test\n",
       "\n",
       "data:  exp_data_cesd_4$ob0 and exp_data_cesd_4$ob3\n",
       "t = 1.7983, df = 70.899, p-value = 0.03819\n",
       "alternative hypothesis: true difference in means is greater than 0\n",
       "95 percent confidence interval:\n",
       " 0.2869599       Inf\n",
       "sample estimates:\n",
       "mean of x mean of y \n",
       "13.053571  9.135135 \n"
      ]
     },
     "metadata": {},
     "output_type": "display_data"
    }
   ],
   "source": [
    "#T test for intervention 1\n",
    "t.test(exp_data_cesd_1$ob0, exp_data_cesd_1$ob3, alternative = \"greater\", mu=0, paired = FALSE, conf.level = 0.95)\n",
    "\n",
    "#T test for intervention 2\n",
    "t.test(exp_data_cesd_2$ob0, exp_data_cesd_2$ob3, alternative = \"greater\", mu=0, paired = FALSE, conf.level = 0.95)\n",
    "\n",
    "#T test for intervention 3\n",
    "t.test(exp_data_cesd_3$ob0, exp_data_cesd_3$ob3, alternative = \"greater\", mu=0, paired = FALSE, conf.level = 0.95)\n",
    "\n",
    "#T test for intervention 4\n",
    "t.test(exp_data_cesd_4$ob0, exp_data_cesd_4$ob3, alternative = \"greater\", mu=0, paired = FALSE, conf.level = 0.95)\n"
   ]
  },
  {
   "cell_type": "markdown",
   "metadata": {},
   "source": [
    "Treatment 4 seems to show a significant impact, and treatment 2 appears to have possibly had some impact. Next, I will check the 3 month mark."
   ]
  },
  {
   "cell_type": "code",
   "execution_count": 34,
   "metadata": {},
   "outputs": [
    {
     "data": {
      "text/plain": [
       "\n",
       "\tWelch Two Sample t-test\n",
       "\n",
       "data:  exp_data_cesd_1$ob0 and exp_data_cesd_1$ob4\n",
       "t = 1.848, df = 75.381, p-value = 0.03427\n",
       "alternative hypothesis: true difference in means is greater than 0\n",
       "95 percent confidence interval:\n",
       " 0.4551122       Inf\n",
       "sample estimates:\n",
       "mean of x mean of y \n",
       " 15.73333  11.12857 \n"
      ]
     },
     "metadata": {},
     "output_type": "display_data"
    },
    {
     "data": {
      "text/plain": [
       "\n",
       "\tWelch Two Sample t-test\n",
       "\n",
       "data:  exp_data_cesd_2$ob0 and exp_data_cesd_2$ob4\n",
       "t = 0.97121, df = 65.717, p-value = 0.1675\n",
       "alternative hypothesis: true difference in means is greater than 0\n",
       "95 percent confidence interval:\n",
       " -1.666783       Inf\n",
       "sample estimates:\n",
       "mean of x mean of y \n",
       " 15.75439  13.43243 \n"
      ]
     },
     "metadata": {},
     "output_type": "display_data"
    },
    {
     "data": {
      "text/plain": [
       "\n",
       "\tWelch Two Sample t-test\n",
       "\n",
       "data:  exp_data_cesd_3$ob0 and exp_data_cesd_3$ob4\n",
       "t = 0.44476, df = 50.181, p-value = 0.3292\n",
       "alternative hypothesis: true difference in means is greater than 0\n",
       "95 percent confidence interval:\n",
       " -4.270617       Inf\n",
       "sample estimates:\n",
       "mean of x mean of y \n",
       " 16.43182  14.88889 \n"
      ]
     },
     "metadata": {},
     "output_type": "display_data"
    },
    {
     "data": {
      "text/plain": [
       "\n",
       "\tWelch Two Sample t-test\n",
       "\n",
       "data:  exp_data_cesd_4$ob0 and exp_data_cesd_4$ob4\n",
       "t = 2.9768, df = 83.433, p-value = 0.001906\n",
       "alternative hypothesis: true difference in means is greater than 0\n",
       "95 percent confidence interval:\n",
       " 2.346616      Inf\n",
       "sample estimates:\n",
       "mean of x mean of y \n",
       "13.053571  7.735294 \n"
      ]
     },
     "metadata": {},
     "output_type": "display_data"
    }
   ],
   "source": [
    "#T test for intervention 1\n",
    "t.test(exp_data_cesd_1$ob0, exp_data_cesd_1$ob4, alternative = \"greater\", mu=0, paired = FALSE, conf.level = 0.95)\n",
    "\n",
    "#T test for intervention 2\n",
    "t.test(exp_data_cesd_2$ob0, exp_data_cesd_2$ob4, alternative = \"greater\", mu=0, paired = FALSE, conf.level = 0.95)\n",
    "\n",
    "#T test for intervention 3\n",
    "t.test(exp_data_cesd_3$ob0, exp_data_cesd_3$ob4, alternative = \"greater\", mu=0, paired = FALSE, conf.level = 0.95)\n",
    "\n",
    "#T test for intervention 4\n",
    "t.test(exp_data_cesd_4$ob0, exp_data_cesd_4$ob4, alternative = \"greater\", mu=0, paired = FALSE, conf.level = 0.95)\n"
   ]
  },
  {
   "cell_type": "code",
   "execution_count": 35,
   "metadata": {},
   "outputs": [
    {
     "data": {
      "text/plain": [
       "\n",
       "\tWelch Two Sample t-test\n",
       "\n",
       "data:  exp_data_cesd_1$ob0 and exp_data_cesd_1$ob5\n",
       "t = 0.68934, df = 46.376, p-value = 0.247\n",
       "alternative hypothesis: true difference in means is greater than 0\n",
       "95 percent confidence interval:\n",
       " -3.177702       Inf\n",
       "sample estimates:\n",
       "mean of x mean of y \n",
       " 15.73333  13.51852 \n"
      ]
     },
     "metadata": {},
     "output_type": "display_data"
    },
    {
     "data": {
      "text/plain": [
       "\n",
       "\tWelch Two Sample t-test\n",
       "\n",
       "data:  exp_data_cesd_2$ob0 and exp_data_cesd_2$ob5\n",
       "t = 0.44587, df = 58.811, p-value = 0.3287\n",
       "alternative hypothesis: true difference in means is greater than 0\n",
       "95 percent confidence interval:\n",
       " -3.261554       Inf\n",
       "sample estimates:\n",
       "mean of x mean of y \n",
       " 15.75439  14.56757 \n"
      ]
     },
     "metadata": {},
     "output_type": "display_data"
    },
    {
     "data": {
      "text/plain": [
       "\n",
       "\tWelch Two Sample t-test\n",
       "\n",
       "data:  exp_data_cesd_3$ob0 and exp_data_cesd_3$ob5\n",
       "t = 1.0203, df = 45.891, p-value = 0.1565\n",
       "alternative hypothesis: true difference in means is greater than 0\n",
       "95 percent confidence interval:\n",
       " -2.186815       Inf\n",
       "sample estimates:\n",
       "mean of x mean of y \n",
       " 16.43182  13.04348 \n"
      ]
     },
     "metadata": {},
     "output_type": "display_data"
    },
    {
     "data": {
      "text/plain": [
       "\n",
       "\tWelch Two Sample t-test\n",
       "\n",
       "data:  exp_data_cesd_4$ob0 and exp_data_cesd_4$ob5\n",
       "t = 1.2788, df = 61.755, p-value = 0.1029\n",
       "alternative hypothesis: true difference in means is greater than 0\n",
       "95 percent confidence interval:\n",
       " -0.8784161        Inf\n",
       "sample estimates:\n",
       "mean of x mean of y \n",
       " 13.05357  10.18182 \n"
      ]
     },
     "metadata": {},
     "output_type": "display_data"
    }
   ],
   "source": [
    "#T test for intervention 1\n",
    "t.test(exp_data_cesd_1$ob0, exp_data_cesd_1$ob5, alternative = \"greater\", mu=0, paired = FALSE, conf.level = 0.95)\n",
    "\n",
    "#T test for intervention 2\n",
    "t.test(exp_data_cesd_2$ob0, exp_data_cesd_2$ob5, alternative = \"greater\", mu=0, paired = FALSE, conf.level = 0.95)\n",
    "\n",
    "#T test for intervention 3\n",
    "t.test(exp_data_cesd_3$ob0, exp_data_cesd_3$ob5, alternative = \"greater\", mu=0, paired = FALSE, conf.level = 0.95)\n",
    "\n",
    "#T test for intervention 4\n",
    "t.test(exp_data_cesd_4$ob0, exp_data_cesd_4$ob5, alternative = \"greater\", mu=0, paired = FALSE, conf.level = 0.95)\n"
   ]
  },
  {
   "cell_type": "markdown",
   "metadata": {},
   "source": [
    "None of the differences at this point are distinguishable from random noise."
   ]
  },
  {
   "cell_type": "markdown",
   "metadata": {},
   "source": [
    "# 4 Conclusions\n",
    "The four treatments all appear to have had some measurable and significant impact on happiness, there seems to have been little to no meaningful impact on the experience of depressive symptoms as quantified by the CESD. \n",
    "\n",
    "None of the 4 treatments are significantly different from one another. The majority of the differnce between the four treatments seems to be explained by the differences between the particiants that were assigned to the four groups."
   ]
  },
  {
   "cell_type": "code",
   "execution_count": null,
   "metadata": {},
   "outputs": [],
   "source": []
  }
 ],
 "metadata": {
  "kernelspec": {
   "display_name": "R",
   "language": "R",
   "name": "ir"
  },
  "language_info": {
   "codemirror_mode": "r",
   "file_extension": ".r",
   "mimetype": "text/x-r-source",
   "name": "R",
   "pygments_lexer": "r",
   "version": "4.0.1"
  }
 },
 "nbformat": 4,
 "nbformat_minor": 4
}
